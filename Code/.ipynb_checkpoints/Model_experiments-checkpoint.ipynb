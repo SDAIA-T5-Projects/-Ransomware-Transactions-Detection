{
 "cells": [
  {
   "cell_type": "code",
   "execution_count": 11,
   "id": "0cd4db15-e487-4fbd-8db6-adae52bbc791",
   "metadata": {},
   "outputs": [],
   "source": [
    "import pandas as pd\n",
    "import numpy as np\n",
    "\n",
    "\n",
    "from sklearn.linear_model import LogisticRegression, SGDClassifier\n",
    "from sklearn.model_selection import train_test_split\n",
    "from sklearn.metrics import precision_score, recall_score, accuracy_score, roc_auc_score, confusion_matrix, precision_recall_fscore_support\n",
    "from sklearn.metrics import confusion_matrix\n",
    "from sklearn.preprocessing import StandardScaler, MinMaxScaler\n",
    "from sklearn.svm import SVC\n",
    "from sklearn.neighbors import KNeighborsClassifier\n",
    "from sklearn.tree import DecisionTreeClassifier\n",
    "from sklearn.ensemble import RandomForestClassifier, ExtraTreesClassifier\n",
    "\n",
    "from sklearn import preprocessing, neighbors\n"
   ]
  },
  {
   "cell_type": "code",
   "execution_count": 2,
   "id": "9385a1a8",
   "metadata": {},
   "outputs": [],
   "source": [
    "from sklearn.ensemble import GradientBoostingClassifier"
   ]
  },
  {
   "cell_type": "code",
   "execution_count": 3,
   "id": "4075c769-cbc5-4d1a-858c-7f0963decd18",
   "metadata": {},
   "outputs": [],
   "source": [
    "df_new = pd.read_csv(\"../Data/BMT_balanced_encoded_address.csv\",index_col= 0)"
   ]
  },
  {
   "cell_type": "code",
   "execution_count": 51,
   "id": "fbd19b90",
   "metadata": {},
   "outputs": [
    {
     "data": {
      "text/html": [
       "<div>\n",
       "<style scoped>\n",
       "    .dataframe tbody tr th:only-of-type {\n",
       "        vertical-align: middle;\n",
       "    }\n",
       "\n",
       "    .dataframe tbody tr th {\n",
       "        vertical-align: top;\n",
       "    }\n",
       "\n",
       "    .dataframe thead th {\n",
       "        text-align: right;\n",
       "    }\n",
       "</style>\n",
       "<table border=\"1\" class=\"dataframe\">\n",
       "  <thead>\n",
       "    <tr style=\"text-align: right;\">\n",
       "      <th></th>\n",
       "      <th>address</th>\n",
       "      <th>year</th>\n",
       "      <th>day</th>\n",
       "      <th>length</th>\n",
       "      <th>weight</th>\n",
       "      <th>count</th>\n",
       "      <th>looped</th>\n",
       "      <th>neighbors</th>\n",
       "      <th>income</th>\n",
       "      <th>label</th>\n",
       "      <th>length_t</th>\n",
       "      <th>weight_t</th>\n",
       "      <th>count_t</th>\n",
       "      <th>looped_t</th>\n",
       "      <th>neighbors_t</th>\n",
       "      <th>income_t</th>\n",
       "    </tr>\n",
       "  </thead>\n",
       "  <tbody>\n",
       "    <tr>\n",
       "      <th>count</th>\n",
       "      <td>82826.000000</td>\n",
       "      <td>82826.000000</td>\n",
       "      <td>82826.000000</td>\n",
       "      <td>82826.000000</td>\n",
       "      <td>8.282600e+04</td>\n",
       "      <td>82826.000000</td>\n",
       "      <td>82826.000000</td>\n",
       "      <td>82826.000000</td>\n",
       "      <td>8.282600e+04</td>\n",
       "      <td>82826.000000</td>\n",
       "      <td>8.282600e+04</td>\n",
       "      <td>8.282600e+04</td>\n",
       "      <td>8.282600e+04</td>\n",
       "      <td>8.282600e+04</td>\n",
       "      <td>8.282600e+04</td>\n",
       "      <td>8.282600e+04</td>\n",
       "    </tr>\n",
       "    <tr>\n",
       "      <th>mean</th>\n",
       "      <td>30610.651861</td>\n",
       "      <td>2014.673001</td>\n",
       "      <td>178.385121</td>\n",
       "      <td>42.892232</td>\n",
       "      <td>6.068181e-01</td>\n",
       "      <td>658.708316</td>\n",
       "      <td>167.566960</td>\n",
       "      <td>2.245189</td>\n",
       "      <td>2.299863e+09</td>\n",
       "      <td>0.500000</td>\n",
       "      <td>7.907695e-15</td>\n",
       "      <td>-9.215578e-15</td>\n",
       "      <td>2.649182e-15</td>\n",
       "      <td>-2.283879e-14</td>\n",
       "      <td>1.087646e-14</td>\n",
       "      <td>-7.532922e-14</td>\n",
       "    </tr>\n",
       "    <tr>\n",
       "      <th>std</th>\n",
       "      <td>17711.101329</td>\n",
       "      <td>1.883032</td>\n",
       "      <td>99.762367</td>\n",
       "      <td>58.575369</td>\n",
       "      <td>6.925135e+00</td>\n",
       "      <td>1566.799238</td>\n",
       "      <td>781.278102</td>\n",
       "      <td>41.365659</td>\n",
       "      <td>5.160580e+10</td>\n",
       "      <td>0.500003</td>\n",
       "      <td>1.000006e+00</td>\n",
       "      <td>1.000006e+00</td>\n",
       "      <td>1.000006e+00</td>\n",
       "      <td>1.000006e+00</td>\n",
       "      <td>1.000006e+00</td>\n",
       "      <td>1.000006e+00</td>\n",
       "    </tr>\n",
       "    <tr>\n",
       "      <th>min</th>\n",
       "      <td>0.000000</td>\n",
       "      <td>2011.000000</td>\n",
       "      <td>1.000000</td>\n",
       "      <td>0.000000</td>\n",
       "      <td>6.493017e-80</td>\n",
       "      <td>1.000000</td>\n",
       "      <td>0.000000</td>\n",
       "      <td>1.000000</td>\n",
       "      <td>3.000000e+07</td>\n",
       "      <td>0.000000</td>\n",
       "      <td>-1.301079e+00</td>\n",
       "      <td>-1.245293e+00</td>\n",
       "      <td>-7.386517e-01</td>\n",
       "      <td>-3.720718e-01</td>\n",
       "      <td>-1.255511e+00</td>\n",
       "      <td>-1.868294e+00</td>\n",
       "    </tr>\n",
       "    <tr>\n",
       "      <th>25%</th>\n",
       "      <td>15069.250000</td>\n",
       "      <td>2013.000000</td>\n",
       "      <td>91.000000</td>\n",
       "      <td>2.000000</td>\n",
       "      <td>3.571429e-02</td>\n",
       "      <td>1.000000</td>\n",
       "      <td>0.000000</td>\n",
       "      <td>1.000000</td>\n",
       "      <td>8.000000e+07</td>\n",
       "      <td>0.000000</td>\n",
       "      <td>-6.477988e-01</td>\n",
       "      <td>-1.060596e+00</td>\n",
       "      <td>-7.386517e-01</td>\n",
       "      <td>-3.720718e-01</td>\n",
       "      <td>-1.255511e+00</td>\n",
       "      <td>-6.942477e-01</td>\n",
       "    </tr>\n",
       "    <tr>\n",
       "      <th>50%</th>\n",
       "      <td>30775.500000</td>\n",
       "      <td>2015.000000</td>\n",
       "      <td>169.000000</td>\n",
       "      <td>8.000000</td>\n",
       "      <td>3.146329e-01</td>\n",
       "      <td>1.000000</td>\n",
       "      <td>0.000000</td>\n",
       "      <td>2.000000</td>\n",
       "      <td>1.584871e+08</td>\n",
       "      <td>0.500000</td>\n",
       "      <td>-3.707359e-02</td>\n",
       "      <td>-2.491646e-02</td>\n",
       "      <td>-7.386517e-01</td>\n",
       "      <td>-3.720718e-01</td>\n",
       "      <td>4.903861e-01</td>\n",
       "      <td>-6.348627e-02</td>\n",
       "    </tr>\n",
       "    <tr>\n",
       "      <th>75%</th>\n",
       "      <td>46146.000000</td>\n",
       "      <td>2016.000000</td>\n",
       "      <td>266.000000</td>\n",
       "      <td>90.000000</td>\n",
       "      <td>1.000000e+00</td>\n",
       "      <td>38.000000</td>\n",
       "      <td>0.000000</td>\n",
       "      <td>2.000000</td>\n",
       "      <td>5.000000e+08</td>\n",
       "      <td>1.000000</td>\n",
       "      <td>1.122097e+00</td>\n",
       "      <td>1.121375e+00</td>\n",
       "      <td>1.087352e+00</td>\n",
       "      <td>-3.720718e-01</td>\n",
       "      <td>4.903861e-01</td>\n",
       "      <td>7.368739e-01</td>\n",
       "    </tr>\n",
       "    <tr>\n",
       "      <th>max</th>\n",
       "      <td>61950.000000</td>\n",
       "      <td>2018.000000</td>\n",
       "      <td>365.000000</td>\n",
       "      <td>144.000000</td>\n",
       "      <td>1.866717e+03</td>\n",
       "      <td>14494.000000</td>\n",
       "      <td>13833.000000</td>\n",
       "      <td>11746.000000</td>\n",
       "      <td>1.067816e+13</td>\n",
       "      <td>1.000000</td>\n",
       "      <td>1.336270e+00</td>\n",
       "      <td>2.502569e+00</td>\n",
       "      <td>1.720990e+00</td>\n",
       "      <td>2.904817e+00</td>\n",
       "      <td>3.060208e+00</td>\n",
       "      <td>2.519937e+00</td>\n",
       "    </tr>\n",
       "  </tbody>\n",
       "</table>\n",
       "</div>"
      ],
      "text/plain": [
       "            address          year           day        length        weight  \\\n",
       "count  82826.000000  82826.000000  82826.000000  82826.000000  8.282600e+04   \n",
       "mean   30610.651861   2014.673001    178.385121     42.892232  6.068181e-01   \n",
       "std    17711.101329      1.883032     99.762367     58.575369  6.925135e+00   \n",
       "min        0.000000   2011.000000      1.000000      0.000000  6.493017e-80   \n",
       "25%    15069.250000   2013.000000     91.000000      2.000000  3.571429e-02   \n",
       "50%    30775.500000   2015.000000    169.000000      8.000000  3.146329e-01   \n",
       "75%    46146.000000   2016.000000    266.000000     90.000000  1.000000e+00   \n",
       "max    61950.000000   2018.000000    365.000000    144.000000  1.866717e+03   \n",
       "\n",
       "              count        looped     neighbors        income         label  \\\n",
       "count  82826.000000  82826.000000  82826.000000  8.282600e+04  82826.000000   \n",
       "mean     658.708316    167.566960      2.245189  2.299863e+09      0.500000   \n",
       "std     1566.799238    781.278102     41.365659  5.160580e+10      0.500003   \n",
       "min        1.000000      0.000000      1.000000  3.000000e+07      0.000000   \n",
       "25%        1.000000      0.000000      1.000000  8.000000e+07      0.000000   \n",
       "50%        1.000000      0.000000      2.000000  1.584871e+08      0.500000   \n",
       "75%       38.000000      0.000000      2.000000  5.000000e+08      1.000000   \n",
       "max    14494.000000  13833.000000  11746.000000  1.067816e+13      1.000000   \n",
       "\n",
       "           length_t      weight_t       count_t      looped_t   neighbors_t  \\\n",
       "count  8.282600e+04  8.282600e+04  8.282600e+04  8.282600e+04  8.282600e+04   \n",
       "mean   7.907695e-15 -9.215578e-15  2.649182e-15 -2.283879e-14  1.087646e-14   \n",
       "std    1.000006e+00  1.000006e+00  1.000006e+00  1.000006e+00  1.000006e+00   \n",
       "min   -1.301079e+00 -1.245293e+00 -7.386517e-01 -3.720718e-01 -1.255511e+00   \n",
       "25%   -6.477988e-01 -1.060596e+00 -7.386517e-01 -3.720718e-01 -1.255511e+00   \n",
       "50%   -3.707359e-02 -2.491646e-02 -7.386517e-01 -3.720718e-01  4.903861e-01   \n",
       "75%    1.122097e+00  1.121375e+00  1.087352e+00 -3.720718e-01  4.903861e-01   \n",
       "max    1.336270e+00  2.502569e+00  1.720990e+00  2.904817e+00  3.060208e+00   \n",
       "\n",
       "           income_t  \n",
       "count  8.282600e+04  \n",
       "mean  -7.532922e-14  \n",
       "std    1.000006e+00  \n",
       "min   -1.868294e+00  \n",
       "25%   -6.942477e-01  \n",
       "50%   -6.348627e-02  \n",
       "75%    7.368739e-01  \n",
       "max    2.519937e+00  "
      ]
     },
     "execution_count": 51,
     "metadata": {},
     "output_type": "execute_result"
    }
   ],
   "source": [
    "df_new.describe()"
   ]
  },
  {
   "cell_type": "code",
   "execution_count": 6,
   "id": "6a30d2f5",
   "metadata": {},
   "outputs": [],
   "source": [
    "df_new.drop(columns=[\"length\",\"weight\",\"count\",\"looped\",\"neighbors\",\"income\"], inplace=True)"
   ]
  },
  {
   "cell_type": "code",
   "execution_count": 7,
   "id": "2bfd6d2f-1a01-4382-92b1-2e3b39b177eb",
   "metadata": {},
   "outputs": [],
   "source": [
    "X_train, X_test, y_train, y_test = train_test_split(df_new.drop(columns=['label']), df_new['label'], \n",
    "                                                    test_size = 0.33, random_state=42)\n"
   ]
  },
  {
   "cell_type": "code",
   "execution_count": 54,
   "id": "1f6bface-ba47-4508-91d5-40a192d3e3a0",
   "metadata": {},
   "outputs": [
    {
     "name": "stderr",
     "output_type": "stream",
     "text": [
      "/Users/muntaha/opt/anaconda3/lib/python3.8/site-packages/sklearn/linear_model/_stochastic_gradient.py:574: ConvergenceWarning: Maximum number of iteration reached before convergence. Consider increasing max_iter to improve the fit.\n",
      "  warnings.warn(\"Maximum number of iteration reached before \"\n"
     ]
    }
   ],
   "source": [
    "classifier = SGDClassifier(loss='log', max_iter=100) \n",
    "model = classifier.fit(X_train, y_train)\n",
    "y_pred = model.predict(X_test)"
   ]
  },
  {
   "cell_type": "code",
   "execution_count": 55,
   "id": "9e519e6a-2f9c-4762-ad5d-e6fc1f0bbf51",
   "metadata": {},
   "outputs": [
    {
     "name": "stdout",
     "output_type": "stream",
     "text": [
      "The accuracy of the model is : 50.0 %\n",
      "Confusion Matrix:\n",
      " [[   13 13647]\n",
      " [    2 13671]]\n"
     ]
    }
   ],
   "source": [
    "accuracy = accuracy_score(y_test,y_pred)\n",
    "conf_mat = confusion_matrix(y_test,y_pred)\n",
    "print(\"The accuracy of the model is :\", round(accuracy,2)*100,\"%\")\n",
    "print(\"Confusion Matrix:\\n\", conf_mat)"
   ]
  },
  {
   "cell_type": "code",
   "execution_count": 56,
   "id": "0825f86b-9337-49ad-9487-4e5f5649e200",
   "metadata": {},
   "outputs": [
    {
     "name": "stdout",
     "output_type": "stream",
     "text": [
      "Precision =  0.5004 \n",
      "Recall =  0.9999 \n",
      "F-Score =  0.667\n"
     ]
    }
   ],
   "source": [
    "precision, recall, fscore, support = precision_recall_fscore_support(y_test, y_pred, average='binary')\n",
    "print('Precision = ',round(precision,4),'\\nRecall = ', round(recall,4), '\\nF-Score = ',round(fscore,4))"
   ]
  },
  {
   "cell_type": "code",
   "execution_count": 57,
   "id": "117f0b75-295c-451f-b595-50791b927bb6",
   "metadata": {},
   "outputs": [],
   "source": [
    "scaler = StandardScaler()\n",
    "X_train_scaled = scaler.fit_transform(X_train)\n",
    "X_test_scaled = scaler.fit_transform(X_test)\n"
   ]
  },
  {
   "cell_type": "code",
   "execution_count": 58,
   "id": "f0ca0313-a96d-420e-b3ac-81b314a94904",
   "metadata": {
    "jupyter": {
     "source_hidden": true
    },
    "tags": []
   },
   "outputs": [],
   "source": [
    "classifier = SGDClassifier(loss='log', max_iter=100) \n",
    "model = classifier.fit(X_train_scaled, y_train)\n",
    "y_pred = model.predict(X_test_scaled)"
   ]
  },
  {
   "cell_type": "code",
   "execution_count": 59,
   "id": "1826b9bd-65f1-4d70-9e4f-24cea16ce7a2",
   "metadata": {},
   "outputs": [
    {
     "name": "stdout",
     "output_type": "stream",
     "text": [
      "The accuracy of the model is : 57.99999999999999 %\n",
      "Confusion Matrix:\n",
      " [[8170 5490]\n",
      " [6032 7641]]\n"
     ]
    }
   ],
   "source": [
    "accuracy = accuracy_score(y_test,y_pred)\n",
    "conf_mat = confusion_matrix(y_test,y_pred)\n",
    "print(\"The accuracy of the model is :\", round(accuracy,2)*100,\"%\")\n",
    "print(\"Confusion Matrix:\\n\", conf_mat)"
   ]
  },
  {
   "cell_type": "code",
   "execution_count": 60,
   "id": "5f988fdf-a5bd-4f8d-85b5-9f9510bc7067",
   "metadata": {},
   "outputs": [
    {
     "name": "stdout",
     "output_type": "stream",
     "text": [
      "Precision =  0.5819 \n",
      "Recall =  0.5588 \n",
      "F-Score =  0.5701\n"
     ]
    }
   ],
   "source": [
    "precision, recall, fscore, support = precision_recall_fscore_support(y_test, y_pred, average='binary')\n",
    "print('Precision = ',round(precision,4),'\\nRecall = ', round(recall,4), '\\nF-Score = ',round(fscore,4))"
   ]
  },
  {
   "cell_type": "code",
   "execution_count": 61,
   "id": "d4eca8bc-4ec8-4a1b-8f7d-05b379d1d484",
   "metadata": {},
   "outputs": [],
   "source": [
    "scaler = MinMaxScaler()\n",
    "X_train_scaled = scaler.fit_transform(X_train)\n",
    "X_test_scaled = scaler.fit_transform(X_test)\n"
   ]
  },
  {
   "cell_type": "code",
   "execution_count": 62,
   "id": "6274ea68-49e2-4582-aee1-81734929db8c",
   "metadata": {},
   "outputs": [],
   "source": [
    "classifier = SGDClassifier(loss='log', max_iter=100) \n",
    "model = classifier.fit(X_train_scaled, y_train)\n",
    "y_pred = model.predict(X_test_scaled)"
   ]
  },
  {
   "cell_type": "code",
   "execution_count": 63,
   "id": "ccd092d5-ca86-4dd7-b3de-ee6e529109a2",
   "metadata": {},
   "outputs": [
    {
     "name": "stdout",
     "output_type": "stream",
     "text": [
      "The accuracy of the model is : 57.99999999999999 %\n",
      "Confusion Matrix:\n",
      " [[8113 5547]\n",
      " [6030 7643]]\n"
     ]
    }
   ],
   "source": [
    "accuracy = accuracy_score(y_test,y_pred)\n",
    "conf_mat = confusion_matrix(y_test,y_pred)\n",
    "print(\"The accuracy of the model is :\", round(accuracy,2)*100,\"%\")\n",
    "print(\"Confusion Matrix:\\n\", conf_mat)"
   ]
  },
  {
   "cell_type": "code",
   "execution_count": 64,
   "id": "e567ae58-b8a8-4745-afdc-7913c0f4748a",
   "metadata": {},
   "outputs": [
    {
     "name": "stdout",
     "output_type": "stream",
     "text": [
      "Precision =  0.5795 \n",
      "Recall =  0.559 \n",
      "F-Score =  0.569\n"
     ]
    }
   ],
   "source": [
    "precision, recall, fscore, support = precision_recall_fscore_support(y_test, y_pred, average='binary')\n",
    "print('Precision = ',round(precision,4),'\\nRecall = ', round(recall,4), '\\nF-Score = ',round(fscore,4))"
   ]
  },
  {
   "cell_type": "code",
   "execution_count": null,
   "id": "e7d9ec6e-9a24-4c8e-bce5-4ce8dcf2e236",
   "metadata": {},
   "outputs": [],
   "source": []
  },
  {
   "cell_type": "markdown",
   "id": "b8637ed0-547a-4928-a3a5-e5cb0d6e613d",
   "metadata": {},
   "source": [
    "### SVM model"
   ]
  },
  {
   "cell_type": "code",
   "execution_count": 17,
   "id": "7e38a465-2252-4952-a25d-745ae0e30f7a",
   "metadata": {},
   "outputs": [],
   "source": [
    "# Scale\n",
    "scaler = MinMaxScaler()\n",
    "X_train_scaled = scaler.fit_transform(X_train)\n",
    "X_test_scaled = scaler.fit_transform(X_test)"
   ]
  },
  {
   "cell_type": "code",
   "execution_count": 19,
   "id": "f95cb8f0-be81-4196-80fb-f87906fe2407",
   "metadata": {},
   "outputs": [],
   "source": [
    "# work on Balanced DATA (Random sampling)\n",
    "model = SVC(kernel='rbf', random_state = 2)"
   ]
  },
  {
   "cell_type": "code",
   "execution_count": null,
   "id": "2f330997-bf29-4962-95ff-f368121682a0",
   "metadata": {},
   "outputs": [],
   "source": [
    "model.fit(X_train, y_train)"
   ]
  },
  {
   "cell_type": "code",
   "execution_count": null,
   "id": "b4400f27-5015-4c63-87e3-d78dff8055ba",
   "metadata": {},
   "outputs": [],
   "source": [
    "Y_pred = model.predict(X_test)"
   ]
  },
  {
   "cell_type": "code",
   "execution_count": null,
   "id": "ed62f7af-7c10-4be9-9381-22607c23379f",
   "metadata": {},
   "outputs": [],
   "source": [
    "Y_pred"
   ]
  },
  {
   "cell_type": "code",
   "execution_count": null,
   "id": "1368f991-7517-4b71-8965-73ed781d7485",
   "metadata": {},
   "outputs": [],
   "source": [
    "cm = confusion_matrix(y_test,Y_pred)\n",
    "accuracy = float(cm.diagonal().sum())/len(y_test)\n",
    "print(\"\\nSVM Accuracy: \", accuracy)"
   ]
  },
  {
   "cell_type": "code",
   "execution_count": null,
   "id": "0f6a891e-0a6f-490e-96ed-8c527836b13c",
   "metadata": {},
   "outputs": [],
   "source": [
    "precision, recall, fscore, support = precision_recall_fscore_support(y_test, Y_pred, average='binary')\n",
    "print('Precision = ',round(precision,4),'\\nRecall = ', round(recall,4), '\\nF-Score = ',round(fscore,4))"
   ]
  },
  {
   "cell_type": "code",
   "execution_count": null,
   "id": "517230c9-c1a3-4905-b771-8c0f2c9e4e45",
   "metadata": {},
   "outputs": [],
   "source": [
    "model = model.fit(X_train_scaled, y_train)\n",
    "y_pred_ = model.predict(X_test_scaled)"
   ]
  },
  {
   "cell_type": "code",
   "execution_count": null,
   "id": "1f0424dc-0d97-4e8e-946e-40e4aaa9208e",
   "metadata": {},
   "outputs": [],
   "source": [
    "precision, recall, fscore, support = precision_recall_fscore_support(y_test, y_pred_, average='binary')\n",
    "print('Precision = ',round(precision,4),'\\nRecall = ', round(recall,4), '\\nF-Score = ',round(fscore,4))"
   ]
  },
  {
   "cell_type": "code",
   "execution_count": null,
   "id": "f5ac4df9-bfd6-41f3-89ed-d0d45428afb2",
   "metadata": {},
   "outputs": [],
   "source": [
    "cm = confusion_matrix(y_test,y_pred_)\n",
    "accuracy = float(cm.diagonal().sum())/len(y_test)\n",
    "print(\"\\nSVM Accuracy: \", accuracy)"
   ]
  },
  {
   "cell_type": "code",
   "execution_count": null,
   "id": "e26fb0ce-fcfd-490d-af05-ce02db148033",
   "metadata": {},
   "outputs": [],
   "source": [
    "accuracy = accuracy_score(y_test,y_pred_)\n",
    "conf_mat = confusion_matrix(y_test,y_pred_)\n",
    "print(\"The accuracy of the model is :\", round(accuracy,2)*100,\"%\")\n",
    "print(\"Confusion Matrix:\\n\", conf_mat)"
   ]
  },
  {
   "cell_type": "code",
   "execution_count": null,
   "id": "8ee21b93-820d-4468-803f-cb4e1b0299ab",
   "metadata": {},
   "outputs": [],
   "source": [
    "model.score(X_test,y_test)"
   ]
  },
  {
   "cell_type": "markdown",
   "id": "0aa53b4e-e70c-4575-a01e-e6a8e9267608",
   "metadata": {
    "tags": []
   },
   "source": [
    "### Random Forest model"
   ]
  },
  {
   "cell_type": "code",
   "execution_count": 17,
   "id": "75ce39eb-1732-4ffb-b4ae-c2b5b4b199cf",
   "metadata": {},
   "outputs": [],
   "source": [
    "# work on Balanced DATA (Random sampling)\n",
    "model = RandomForestClassifier(max_depth=3,random_state=2)"
   ]
  },
  {
   "cell_type": "code",
   "execution_count": 19,
   "id": "20d98a30-d206-4449-8f97-e797444c88c3",
   "metadata": {},
   "outputs": [],
   "source": [
    "model = model.fit(X_train,y_train)"
   ]
  },
  {
   "cell_type": "code",
   "execution_count": 20,
   "id": "70140f41-350c-442b-8816-b62a18403d9b",
   "metadata": {},
   "outputs": [
    {
     "data": {
      "text/plain": [
       "0.7459796204182161"
      ]
     },
     "execution_count": 20,
     "metadata": {},
     "output_type": "execute_result"
    }
   ],
   "source": [
    "model.score(X_test,y_test)"
   ]
  },
  {
   "cell_type": "code",
   "execution_count": 21,
   "id": "73135c2d-8baf-4d61-8d61-91059ee3cbf0",
   "metadata": {},
   "outputs": [],
   "source": [
    "Y_pred = model.predict(X_test)"
   ]
  },
  {
   "cell_type": "code",
   "execution_count": 22,
   "id": "c3cd4175-a446-4b81-b748-7748c0b0e629",
   "metadata": {},
   "outputs": [
    {
     "name": "stdout",
     "output_type": "stream",
     "text": [
      "Precision =  0.6946 \n",
      "Recall =  0.8791 \n",
      "F-Score =  0.7761\n"
     ]
    }
   ],
   "source": [
    "precision, recall, fscore, support = precision_recall_fscore_support(y_test, Y_pred, average='binary')\n",
    "print('Precision = ',round(precision,4),'\\nRecall = ', round(recall,4), '\\nF-Score = ',round(fscore,4))"
   ]
  },
  {
   "cell_type": "markdown",
   "id": "534f8261-819a-4be4-befc-19073f4a1772",
   "metadata": {},
   "source": [
    "### Try the model with transformed data "
   ]
  },
  {
   "cell_type": "code",
   "execution_count": 22,
   "id": "6d06ad6f-5333-4cf8-b965-e7843fac1b57",
   "metadata": {},
   "outputs": [
    {
     "name": "stdout",
     "output_type": "stream",
     "text": [
      "0.7630269957019366\n",
      "Precision =  0.7181 \n",
      "Recall =  0.8671 \n",
      "F-Score =  0.7856\n"
     ]
    }
   ],
   "source": [
    "model = RandomForestClassifier(max_depth=5,random_state=42)\n",
    "model = model.fit(X_train,y_train)\n",
    "print(model.score(X_test,y_test))\n",
    "Y_pred = model.predict(X_test)\n",
    "precision, recall, fscore, support = precision_recall_fscore_support(y_test, Y_pred, average='binary')\n",
    "print('Precision = ',round(precision,4),'\\nRecall = ', round(recall,4), '\\nF-Score = ',round(fscore,4))"
   ]
  },
  {
   "cell_type": "code",
   "execution_count": null,
   "id": "cef37544-fa03-4659-ab1e-f00758a13436",
   "metadata": {},
   "outputs": [],
   "source": []
  },
  {
   "cell_type": "markdown",
   "id": "0f12f2ba",
   "metadata": {},
   "source": [
    "# Gradient boosted tree"
   ]
  },
  {
   "cell_type": "code",
   "execution_count": 4,
   "id": "da9e77e2",
   "metadata": {},
   "outputs": [
    {
     "ename": "NameError",
     "evalue": "name 'X_train' is not defined",
     "output_type": "error",
     "traceback": [
      "\u001b[1;31m---------------------------------------------------------------------------\u001b[0m",
      "\u001b[1;31mNameError\u001b[0m                                 Traceback (most recent call last)",
      "\u001b[1;32m~\\AppData\\Local\\Temp/ipykernel_13392/3210098969.py\u001b[0m in \u001b[0;36m<module>\u001b[1;34m\u001b[0m\n\u001b[0;32m      1\u001b[0m \u001b[0mmodel\u001b[0m \u001b[1;33m=\u001b[0m \u001b[0mGradientBoostingClassifier\u001b[0m\u001b[1;33m(\u001b[0m\u001b[1;33m)\u001b[0m\u001b[1;33m\u001b[0m\u001b[1;33m\u001b[0m\u001b[0m\n\u001b[1;32m----> 2\u001b[1;33m \u001b[0mmodel\u001b[0m \u001b[1;33m=\u001b[0m \u001b[0mmodel\u001b[0m\u001b[1;33m.\u001b[0m\u001b[0mfit\u001b[0m\u001b[1;33m(\u001b[0m\u001b[0mX_train\u001b[0m\u001b[1;33m,\u001b[0m\u001b[0my_train\u001b[0m\u001b[1;33m)\u001b[0m\u001b[1;33m\u001b[0m\u001b[1;33m\u001b[0m\u001b[0m\n\u001b[0m\u001b[0;32m      3\u001b[0m \u001b[1;33m\u001b[0m\u001b[0m\n\u001b[0;32m      4\u001b[0m \u001b[0mprint\u001b[0m\u001b[1;33m(\u001b[0m\u001b[0mmodel\u001b[0m\u001b[1;33m.\u001b[0m\u001b[0mscore\u001b[0m\u001b[1;33m(\u001b[0m\u001b[0mX_test\u001b[0m\u001b[1;33m,\u001b[0m\u001b[0my_test\u001b[0m\u001b[1;33m)\u001b[0m\u001b[1;33m)\u001b[0m\u001b[1;33m\u001b[0m\u001b[1;33m\u001b[0m\u001b[0m\n\u001b[0;32m      5\u001b[0m \u001b[1;33m\u001b[0m\u001b[0m\n",
      "\u001b[1;31mNameError\u001b[0m: name 'X_train' is not defined"
     ]
    }
   ],
   "source": [
    "model = GradientBoostingClassifier()\n",
    "model = model.fit(X_train,y_train)\n",
    "\n",
    "print(model.score(X_test,y_test))\n",
    "\n",
    "Y_pred = model.predict(X_test)\n"
   ]
  },
  {
   "cell_type": "code",
   "execution_count": null,
   "id": "ef9a3ad2",
   "metadata": {},
   "outputs": [],
   "source": [
    "precision, recall, fscore, support = precision_recall_fscore_support(y_test, Y_pred, average='binary')\n",
    "print('Precision = ',round(precision,4),'\\nRecall = ', round(recall,4), '\\nF-Score = ',round(fscore,4))\n"
   ]
  },
  {
   "cell_type": "code",
   "execution_count": 67,
   "id": "b22e3354",
   "metadata": {},
   "outputs": [
    {
     "name": "stdout",
     "output_type": "stream",
     "text": [
      "              precision    recall  f1-score   support\n",
      "\n",
      "           0       0.89      0.79      0.83     13660\n",
      "           1       0.81      0.90      0.85     13673\n",
      "\n",
      "    accuracy                           0.84     27333\n",
      "   macro avg       0.85      0.84      0.84     27333\n",
      "weighted avg       0.85      0.84      0.84     27333\n",
      "\n"
     ]
    }
   ],
   "source": [
    "from sklearn.metrics import classification_report\n",
    "print(classification_report(y_test, Y_pred, target_names=['0','1'], zero_division=0))"
   ]
  },
  {
   "cell_type": "code",
   "execution_count": 68,
   "id": "f4e742fa",
   "metadata": {},
   "outputs": [],
   "source": [
    "# Scale MinMaxScaler\n",
    "scaler = MinMaxScaler()\n",
    "X_train_scaled = scaler.fit_transform(X_train)\n",
    "X_test_scaled = scaler.fit_transform(X_test)"
   ]
  },
  {
   "cell_type": "code",
   "execution_count": 69,
   "id": "d64cb47f",
   "metadata": {},
   "outputs": [],
   "source": [
    "model = model.fit(X_train_scaled, y_train)\n",
    "y_pred_ = model.predict(X_test_scaled)"
   ]
  },
  {
   "cell_type": "code",
   "execution_count": 70,
   "id": "e42961aa",
   "metadata": {},
   "outputs": [
    {
     "name": "stdout",
     "output_type": "stream",
     "text": [
      "Precision =  0.8137 \n",
      "Recall =  0.8948 \n",
      "F-Score =  0.8523\n"
     ]
    }
   ],
   "source": [
    "precision, recall, fscore, support = precision_recall_fscore_support(y_test, y_pred_, average='binary')\n",
    "print('Precision = ',round(precision,4),'\\nRecall = ', round(recall,4), '\\nF-Score = ',round(fscore,4))"
   ]
  },
  {
   "cell_type": "code",
   "execution_count": 71,
   "id": "de4cd07b",
   "metadata": {},
   "outputs": [],
   "source": [
    "# standared\n",
    "scaler = StandardScaler()\n",
    "X_train_scaled = scaler.fit_transform(X_train)\n",
    "X_test_scaled = scaler.fit_transform(X_test)"
   ]
  },
  {
   "cell_type": "code",
   "execution_count": 72,
   "id": "f6a83bb7",
   "metadata": {},
   "outputs": [],
   "source": [
    "model = model.fit(X_train_scaled, y_train)\n",
    "y_pred_ = model.predict(X_test_scaled)"
   ]
  },
  {
   "cell_type": "code",
   "execution_count": 73,
   "id": "0148e50e",
   "metadata": {},
   "outputs": [
    {
     "name": "stdout",
     "output_type": "stream",
     "text": [
      "Precision =  0.8068 \n",
      "Recall =  0.8912 \n",
      "F-Score =  0.8469\n"
     ]
    }
   ],
   "source": [
    "precision, recall, fscore, support = precision_recall_fscore_support(y_test, y_pred_, average='binary')\n",
    "print('Precision = ',round(precision,4),'\\nRecall = ', round(recall,4), '\\nF-Score = ',round(fscore,4))"
   ]
  },
  {
   "cell_type": "code",
   "execution_count": null,
   "id": "6ea188c5",
   "metadata": {},
   "outputs": [],
   "source": []
  },
  {
   "cell_type": "markdown",
   "id": "8032860c",
   "metadata": {},
   "source": [
    "## naive bayes"
   ]
  },
  {
   "cell_type": "code",
   "execution_count": 74,
   "id": "69a75a94",
   "metadata": {},
   "outputs": [
    {
     "name": "stdout",
     "output_type": "stream",
     "text": [
      "Precision =  0.8089 \n",
      "Recall =  0.9008 \n",
      "F-Score =  0.8524\n"
     ]
    }
   ],
   "source": [
    "from sklearn.naive_bayes import GaussianNB\n",
    "gnb = GaussianNB()\n",
    "y_pred = gnb.fit(X_train, y_train).predict(X_test)\n",
    "\n",
    "precision, recall, fscore, support = precision_recall_fscore_support(y_test, Y_pred, average='binary')\n",
    "print('Precision = ',round(precision,4),'\\nRecall = ', round(recall,4), '\\nF-Score = ',round(fscore,4))\n"
   ]
  },
  {
   "cell_type": "markdown",
   "id": "487a6a7c-2cba-482e-91fe-1c5163efdf6c",
   "metadata": {},
   "source": [
    "## XGBOOST"
   ]
  },
  {
   "cell_type": "code",
   "execution_count": 28,
   "id": "b3db8fab-0883-4de2-ac0d-0cf9a848ebe2",
   "metadata": {},
   "outputs": [
    {
     "name": "stderr",
     "output_type": "stream",
     "text": [
      "C:\\Users\\elaaf\\anaconda3\\lib\\site-packages\\numpy\\lib\\arraysetops.py:583: FutureWarning: elementwise comparison failed; returning scalar instead, but in the future will perform elementwise comparison\n",
      "  mask |= (ar1 == a)\n",
      "C:\\Users\\elaaf\\anaconda3\\lib\\site-packages\\xgboost\\sklearn.py:1224: UserWarning: The use of label encoder in XGBClassifier is deprecated and will be removed in a future release. To remove this warning, do the following: 1) Pass option use_label_encoder=False when constructing XGBClassifier object; and 2) Encode your labels (y) as integers starting with 0, i.e. 0, 1, 2, ..., [num_class - 1].\n",
      "  warnings.warn(label_encoder_deprecation_msg, UserWarning)\n"
     ]
    },
    {
     "name": "stdout",
     "output_type": "stream",
     "text": [
      "[16:29:36] WARNING: C:/Users/Administrator/workspace/xgboost-win64_release_1.5.0/src/learner.cc:1115: Starting in XGBoost 1.3.0, the default evaluation metric used with the objective 'binary:logistic' was changed from 'error' to 'logloss'. Explicitly set eval_metric if you'd like to restore the old behavior.\n"
     ]
    }
   ],
   "source": [
    "from xgboost import XGBClassifier\n",
    "\n",
    "df = pd.read_csv(r\"C:\\Users\\elaaf\\Desktop\\SDS\\extra\\data_undersampled_scaled_tranformed_v1.csv\",index_col= 0)\n",
    "X_train, X_test, y_train, y_test = train_test_split(df.drop(columns=['label']), df['label'], \n",
    "                                                    test_size = 0.33, random_state=42, stratify=df['label'])\n",
    "\n",
    "\n",
    "#Create an object of the classifier.\n",
    "clf = XGBClassifier().fit(X_train, y_train)\n",
    "\n"
   ]
  },
  {
   "cell_type": "code",
   "execution_count": 29,
   "id": "20916000-95dd-40ea-bc90-5b31dc974a37",
   "metadata": {},
   "outputs": [
    {
     "name": "stdout",
     "output_type": "stream",
     "text": [
      "Model Accuracy: 98.99\n"
     ]
    }
   ],
   "source": [
    "y_pred = clf.predict(X_test)\n",
    "accuracy = accuracy_score(y_test, y_pred)\n",
    "print(f'Model Accuracy: {round(accuracy, 4)*100}')"
   ]
  },
  {
   "cell_type": "code",
   "execution_count": 31,
   "id": "f6cfb425-0300-486b-8123-9fd5403c4807",
   "metadata": {},
   "outputs": [
    {
     "name": "stdout",
     "output_type": "stream",
     "text": [
      "Precision =  0.868 \n",
      "Recall =  0.3618 \n",
      "F-Score =  0.5108\n"
     ]
    }
   ],
   "source": [
    "precision, recall, fscore, support = precision_recall_fscore_support(y_test, y_pred, average='binary')\n",
    "print('Precision = ',round(precision,4),'\\nRecall = ', round(recall,4), '\\nF-Score = ',round(fscore,4))\n"
   ]
  },
  {
   "cell_type": "code",
   "execution_count": null,
   "id": "d6cfe8bf-e265-4b1b-a74d-e65c0af818b6",
   "metadata": {},
   "outputs": [
    {
     "name": "stderr",
     "output_type": "stream",
     "text": [
      "[Parallel(n_jobs=12)]: Using backend ThreadingBackend with 12 concurrent workers.\n",
      "[Parallel(n_jobs=12)]: Done  17 tasks      | elapsed:    0.2s\n",
      "[Parallel(n_jobs=12)]: Done 100 out of 100 | elapsed:    0.9s finished\n"
     ]
    },
    {
     "data": {
      "image/png": "[encoded data removed]",
      "text/plain": [
       "<Figure size 432x288 with 2 Axes>"
      ]
     },
     "metadata": {
      "needs_background": "light"
     },
     "output_type": "display_data"
    }
   ],
   "source": [
    "from sklearn.metrics import plot_confusion_matrix\n",
    "plot_confusion_matrix(bbc, X_test, y_test);"
   ]
  },
  {
   "cell_type": "markdown",
   "id": "383e9ba4-7e63-4370-af49-98fd98013f33",
   "metadata": {},
   "source": [
    "# All Models"
   ]
  },
  {
   "cell_type": "code",
   "execution_count": null,
   "id": "33bc5bfc-f09d-46b9-bfaa-969082a7c3b9",
   "metadata": {},
   "outputs": [],
   "source": [
    "# Create Function to fit on All models and Calculat it's score, F1, Prec, Recall ... etc. "
   ]
  },
  {
   "cell_type": "code",
   "execution_count": null,
   "id": "da96ede7",
   "metadata": {},
   "outputs": [],
   "source": []
  },
  {
   "cell_type": "markdown",
   "id": "8346603c",
   "metadata": {},
   "source": [
    "# Test with new Data"
   ]
  },
  {
   "cell_type": "code",
   "execution_count": 37,
   "id": "cc35d9d3",
   "metadata": {},
   "outputs": [],
   "source": [
    "df_test = pd.read_csv(\"../Data/BMT_balanced_encoded_address_RobustScaler_Test.csv\",index_col= 0)"
   ]
  },
  {
   "cell_type": "code",
   "execution_count": 38,
   "id": "6f522812",
   "metadata": {},
   "outputs": [
    {
     "data": {
      "text/html": [
       "<div>\n",
       "<style scoped>\n",
       "    .dataframe tbody tr th:only-of-type {\n",
       "        vertical-align: middle;\n",
       "    }\n",
       "\n",
       "    .dataframe tbody tr th {\n",
       "        vertical-align: top;\n",
       "    }\n",
       "\n",
       "    .dataframe thead th {\n",
       "        text-align: right;\n",
       "    }\n",
       "</style>\n",
       "<table border=\"1\" class=\"dataframe\">\n",
       "  <thead>\n",
       "    <tr style=\"text-align: right;\">\n",
       "      <th></th>\n",
       "      <th>address</th>\n",
       "      <th>year</th>\n",
       "      <th>day</th>\n",
       "      <th>label</th>\n",
       "      <th>s_length</th>\n",
       "      <th>s_weight</th>\n",
       "      <th>s_counted</th>\n",
       "      <th>s_income</th>\n",
       "      <th>s_looped</th>\n",
       "      <th>s_neighbors</th>\n",
       "    </tr>\n",
       "  </thead>\n",
       "  <tbody>\n",
       "    <tr>\n",
       "      <th>0</th>\n",
       "      <td>0</td>\n",
       "      <td>2017</td>\n",
       "      <td>11</td>\n",
       "      <td>1</td>\n",
       "      <td>0.113636</td>\n",
       "      <td>-0.317644</td>\n",
       "      <td>0.000000</td>\n",
       "      <td>-0.139136</td>\n",
       "      <td>-0.214479</td>\n",
       "      <td>-0.005927</td>\n",
       "    </tr>\n",
       "    <tr>\n",
       "      <th>1</th>\n",
       "      <td>5</td>\n",
       "      <td>2016</td>\n",
       "      <td>132</td>\n",
       "      <td>1</td>\n",
       "      <td>0.409091</td>\n",
       "      <td>-0.326033</td>\n",
       "      <td>0.000000</td>\n",
       "      <td>-0.139255</td>\n",
       "      <td>-0.214479</td>\n",
       "      <td>-0.030102</td>\n",
       "    </tr>\n",
       "    <tr>\n",
       "      <th>2</th>\n",
       "      <td>6</td>\n",
       "      <td>2016</td>\n",
       "      <td>246</td>\n",
       "      <td>1</td>\n",
       "      <td>-0.090909</td>\n",
       "      <td>0.710751</td>\n",
       "      <td>0.000000</td>\n",
       "      <td>0.098840</td>\n",
       "      <td>-0.214479</td>\n",
       "      <td>-0.005927</td>\n",
       "    </tr>\n",
       "    <tr>\n",
       "      <th>3</th>\n",
       "      <td>8</td>\n",
       "      <td>2016</td>\n",
       "      <td>322</td>\n",
       "      <td>1</td>\n",
       "      <td>0.727273</td>\n",
       "      <td>-0.322235</td>\n",
       "      <td>0.000000</td>\n",
       "      <td>-0.207826</td>\n",
       "      <td>-0.214479</td>\n",
       "      <td>-0.005927</td>\n",
       "    </tr>\n",
       "    <tr>\n",
       "      <th>4</th>\n",
       "      <td>9</td>\n",
       "      <td>2016</td>\n",
       "      <td>238</td>\n",
       "      <td>1</td>\n",
       "      <td>1.545455</td>\n",
       "      <td>-0.250739</td>\n",
       "      <td>12.297297</td>\n",
       "      <td>0.098840</td>\n",
       "      <td>-0.214479</td>\n",
       "      <td>-0.030102</td>\n",
       "    </tr>\n",
       "    <tr>\n",
       "      <th>...</th>\n",
       "      <td>...</td>\n",
       "      <td>...</td>\n",
       "      <td>...</td>\n",
       "      <td>...</td>\n",
       "      <td>...</td>\n",
       "      <td>...</td>\n",
       "      <td>...</td>\n",
       "      <td>...</td>\n",
       "      <td>...</td>\n",
       "      <td>...</td>\n",
       "    </tr>\n",
       "    <tr>\n",
       "      <th>2724847</th>\n",
       "      <td>5214</td>\n",
       "      <td>2018</td>\n",
       "      <td>139</td>\n",
       "      <td>0</td>\n",
       "      <td>-0.090909</td>\n",
       "      <td>0.710751</td>\n",
       "      <td>0.000000</td>\n",
       "      <td>-0.005709</td>\n",
       "      <td>-0.214479</td>\n",
       "      <td>-0.030102</td>\n",
       "    </tr>\n",
       "    <tr>\n",
       "      <th>1994617</th>\n",
       "      <td>20804</td>\n",
       "      <td>2016</td>\n",
       "      <td>138</td>\n",
       "      <td>0</td>\n",
       "      <td>-0.068182</td>\n",
       "      <td>-0.067027</td>\n",
       "      <td>0.000000</td>\n",
       "      <td>0.848793</td>\n",
       "      <td>-0.214479</td>\n",
       "      <td>-0.005927</td>\n",
       "    </tr>\n",
       "    <tr>\n",
       "      <th>635147</th>\n",
       "      <td>21980</td>\n",
       "      <td>2012</td>\n",
       "      <td>239</td>\n",
       "      <td>0</td>\n",
       "      <td>1.454545</td>\n",
       "      <td>-0.196656</td>\n",
       "      <td>35.783784</td>\n",
       "      <td>-0.196867</td>\n",
       "      <td>1.481470</td>\n",
       "      <td>-0.030102</td>\n",
       "    </tr>\n",
       "    <tr>\n",
       "      <th>350738</th>\n",
       "      <td>46995</td>\n",
       "      <td>2011</td>\n",
       "      <td>320</td>\n",
       "      <td>0</td>\n",
       "      <td>-0.045455</td>\n",
       "      <td>-0.196656</td>\n",
       "      <td>0.000000</td>\n",
       "      <td>12.250906</td>\n",
       "      <td>-0.214479</td>\n",
       "      <td>-0.005927</td>\n",
       "    </tr>\n",
       "    <tr>\n",
       "      <th>2643493</th>\n",
       "      <td>36051</td>\n",
       "      <td>2018</td>\n",
       "      <td>57</td>\n",
       "      <td>0</td>\n",
       "      <td>1.545455</td>\n",
       "      <td>0.250331</td>\n",
       "      <td>34.486486</td>\n",
       "      <td>0.518251</td>\n",
       "      <td>-0.214479</td>\n",
       "      <td>-0.005927</td>\n",
       "    </tr>\n",
       "  </tbody>\n",
       "</table>\n",
       "<p>82826 rows × 10 columns</p>\n",
       "</div>"
      ],
      "text/plain": [
       "         address  year  day  label  s_length  s_weight  s_counted   s_income  \\\n",
       "0              0  2017   11      1  0.113636 -0.317644   0.000000  -0.139136   \n",
       "1              5  2016  132      1  0.409091 -0.326033   0.000000  -0.139255   \n",
       "2              6  2016  246      1 -0.090909  0.710751   0.000000   0.098840   \n",
       "3              8  2016  322      1  0.727273 -0.322235   0.000000  -0.207826   \n",
       "4              9  2016  238      1  1.545455 -0.250739  12.297297   0.098840   \n",
       "...          ...   ...  ...    ...       ...       ...        ...        ...   \n",
       "2724847     5214  2018  139      0 -0.090909  0.710751   0.000000  -0.005709   \n",
       "1994617    20804  2016  138      0 -0.068182 -0.067027   0.000000   0.848793   \n",
       "635147     21980  2012  239      0  1.454545 -0.196656  35.783784  -0.196867   \n",
       "350738     46995  2011  320      0 -0.045455 -0.196656   0.000000  12.250906   \n",
       "2643493    36051  2018   57      0  1.545455  0.250331  34.486486   0.518251   \n",
       "\n",
       "         s_looped  s_neighbors  \n",
       "0       -0.214479    -0.005927  \n",
       "1       -0.214479    -0.030102  \n",
       "2       -0.214479    -0.005927  \n",
       "3       -0.214479    -0.005927  \n",
       "4       -0.214479    -0.030102  \n",
       "...           ...          ...  \n",
       "2724847 -0.214479    -0.030102  \n",
       "1994617 -0.214479    -0.005927  \n",
       "635147   1.481470    -0.030102  \n",
       "350738  -0.214479    -0.005927  \n",
       "2643493 -0.214479    -0.005927  \n",
       "\n",
       "[82826 rows x 10 columns]"
      ]
     },
     "execution_count": 38,
     "metadata": {},
     "output_type": "execute_result"
    }
   ],
   "source": [
    "df_test"
   ]
  },
  {
   "cell_type": "code",
   "execution_count": 40,
   "id": "90658d27",
   "metadata": {},
   "outputs": [],
   "source": [
    "X_train, X_test, y_train, y_test = train_test_split(df_test.drop(columns=['label','address']), df_test['label'], \n",
    "                                                    test_size = 0.25, random_state=42)"
   ]
  },
  {
   "cell_type": "code",
   "execution_count": null,
   "id": "28fc9cf2",
   "metadata": {},
   "outputs": [],
   "source": []
  }
 ],
 "metadata": {
  "kernelspec": {
   "display_name": "Python 3 (ipykernel)",
   "language": "python",
   "name": "python3"
  },
  "language_info": {
   "codemirror_mode": {
    "name": "ipython",
    "version": 3
   },
   "file_extension": ".py",
   "mimetype": "text/x-python",
   "name": "python",
   "nbconvert_exporter": "python",
   "pygments_lexer": "ipython3",
   "version": "3.8.11"
  }
 },
 "nbformat": 4,
 "nbformat_minor": 5
}
