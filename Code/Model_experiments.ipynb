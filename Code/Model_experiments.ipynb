{
 "cells": [
  {
   "cell_type": "code",
   "execution_count": 1,
   "id": "0cd4db15-e487-4fbd-8db6-adae52bbc791",
   "metadata": {},
   "outputs": [],
   "source": [
    "import pandas as pd\n",
    "import numpy as np\n",
    "\n",
    "\n",
    "from sklearn.linear_model import LogisticRegression, SGDClassifier\n",
    "from sklearn.model_selection import train_test_split\n",
    "from sklearn.metrics import precision_score, recall_score, accuracy_score, roc_auc_score, confusion_matrix, precision_recall_fscore_support\n",
    "from sklearn.metrics import confusion_matrix\n",
    "from sklearn.preprocessing import StandardScaler, MinMaxScaler\n",
    "from sklearn.svm import SVC\n",
    "from sklearn.neighbors import KNeighborsClassifier\n",
    "from sklearn.tree import DecisionTreeClassifier\n",
    "from sklearn.ensemble import RandomForestClassifier\n",
    "from sklearn import preprocessing, neighbors\n"
   ]
  },
  {
   "cell_type": "code",
   "execution_count": 2,
   "id": "86ffca63",
   "metadata": {},
   "outputs": [],
   "source": [
    "from sklearn.ensemble import GradientBoostingClassifier"
   ]
  },
  {
   "cell_type": "code",
   "execution_count": 3,
   "id": "4075c769-cbc5-4d1a-858c-7f0963decd18",
   "metadata": {},
   "outputs": [],
   "source": [
    "df_new = pd.read_csv(\"../Data/BMT_balanced_encoded_address.csv\",index_col= 0)"
   ]
  },
  {
   "cell_type": "code",
   "execution_count": 4,
   "id": "fbd19b90",
   "metadata": {},
   "outputs": [
    {
     "data": {
      "text/html": [
       "<div>\n",
       "<style scoped>\n",
       "    .dataframe tbody tr th:only-of-type {\n",
       "        vertical-align: middle;\n",
       "    }\n",
       "\n",
       "    .dataframe tbody tr th {\n",
       "        vertical-align: top;\n",
       "    }\n",
       "\n",
       "    .dataframe thead th {\n",
       "        text-align: right;\n",
       "    }\n",
       "</style>\n",
       "<table border=\"1\" class=\"dataframe\">\n",
       "  <thead>\n",
       "    <tr style=\"text-align: right;\">\n",
       "      <th></th>\n",
       "      <th>address</th>\n",
       "      <th>year</th>\n",
       "      <th>day</th>\n",
       "      <th>length</th>\n",
       "      <th>weight</th>\n",
       "      <th>count</th>\n",
       "      <th>looped</th>\n",
       "      <th>neighbors</th>\n",
       "      <th>income</th>\n",
       "      <th>label</th>\n",
       "      <th>length_t</th>\n",
       "      <th>weight_t</th>\n",
       "      <th>count_t</th>\n",
       "      <th>looped_t</th>\n",
       "      <th>neighbors_t</th>\n",
       "      <th>income_t</th>\n",
       "    </tr>\n",
       "  </thead>\n",
       "  <tbody>\n",
       "    <tr>\n",
       "      <th>count</th>\n",
       "      <td>82826.000000</td>\n",
       "      <td>82826.000000</td>\n",
       "      <td>82826.000000</td>\n",
       "      <td>82826.000000</td>\n",
       "      <td>8.282600e+04</td>\n",
       "      <td>82826.000000</td>\n",
       "      <td>82826.000000</td>\n",
       "      <td>82826.000000</td>\n",
       "      <td>8.282600e+04</td>\n",
       "      <td>82826.000000</td>\n",
       "      <td>8.282600e+04</td>\n",
       "      <td>8.282600e+04</td>\n",
       "      <td>8.282600e+04</td>\n",
       "      <td>8.282600e+04</td>\n",
       "      <td>8.282600e+04</td>\n",
       "      <td>8.282600e+04</td>\n",
       "    </tr>\n",
       "    <tr>\n",
       "      <th>mean</th>\n",
       "      <td>30610.651861</td>\n",
       "      <td>2014.673001</td>\n",
       "      <td>178.385121</td>\n",
       "      <td>42.892232</td>\n",
       "      <td>6.068181e-01</td>\n",
       "      <td>658.708316</td>\n",
       "      <td>167.566960</td>\n",
       "      <td>2.245189</td>\n",
       "      <td>2.299863e+09</td>\n",
       "      <td>0.500000</td>\n",
       "      <td>7.907695e-15</td>\n",
       "      <td>-9.215578e-15</td>\n",
       "      <td>2.649182e-15</td>\n",
       "      <td>-2.283879e-14</td>\n",
       "      <td>1.087646e-14</td>\n",
       "      <td>-7.532922e-14</td>\n",
       "    </tr>\n",
       "    <tr>\n",
       "      <th>std</th>\n",
       "      <td>17711.101329</td>\n",
       "      <td>1.883032</td>\n",
       "      <td>99.762367</td>\n",
       "      <td>58.575369</td>\n",
       "      <td>6.925135e+00</td>\n",
       "      <td>1566.799238</td>\n",
       "      <td>781.278102</td>\n",
       "      <td>41.365659</td>\n",
       "      <td>5.160580e+10</td>\n",
       "      <td>0.500003</td>\n",
       "      <td>1.000006e+00</td>\n",
       "      <td>1.000006e+00</td>\n",
       "      <td>1.000006e+00</td>\n",
       "      <td>1.000006e+00</td>\n",
       "      <td>1.000006e+00</td>\n",
       "      <td>1.000006e+00</td>\n",
       "    </tr>\n",
       "    <tr>\n",
       "      <th>min</th>\n",
       "      <td>0.000000</td>\n",
       "      <td>2011.000000</td>\n",
       "      <td>1.000000</td>\n",
       "      <td>0.000000</td>\n",
       "      <td>6.493017e-80</td>\n",
       "      <td>1.000000</td>\n",
       "      <td>0.000000</td>\n",
       "      <td>1.000000</td>\n",
       "      <td>3.000000e+07</td>\n",
       "      <td>0.000000</td>\n",
       "      <td>-1.301079e+00</td>\n",
       "      <td>-1.245293e+00</td>\n",
       "      <td>-7.386517e-01</td>\n",
       "      <td>-3.720718e-01</td>\n",
       "      <td>-1.255511e+00</td>\n",
       "      <td>-1.868294e+00</td>\n",
       "    </tr>\n",
       "    <tr>\n",
       "      <th>25%</th>\n",
       "      <td>15069.250000</td>\n",
       "      <td>2013.000000</td>\n",
       "      <td>91.000000</td>\n",
       "      <td>2.000000</td>\n",
       "      <td>3.571429e-02</td>\n",
       "      <td>1.000000</td>\n",
       "      <td>0.000000</td>\n",
       "      <td>1.000000</td>\n",
       "      <td>8.000000e+07</td>\n",
       "      <td>0.000000</td>\n",
       "      <td>-6.477988e-01</td>\n",
       "      <td>-1.060596e+00</td>\n",
       "      <td>-7.386517e-01</td>\n",
       "      <td>-3.720718e-01</td>\n",
       "      <td>-1.255511e+00</td>\n",
       "      <td>-6.942477e-01</td>\n",
       "    </tr>\n",
       "    <tr>\n",
       "      <th>50%</th>\n",
       "      <td>30775.500000</td>\n",
       "      <td>2015.000000</td>\n",
       "      <td>169.000000</td>\n",
       "      <td>8.000000</td>\n",
       "      <td>3.146329e-01</td>\n",
       "      <td>1.000000</td>\n",
       "      <td>0.000000</td>\n",
       "      <td>2.000000</td>\n",
       "      <td>1.584871e+08</td>\n",
       "      <td>0.500000</td>\n",
       "      <td>-3.707359e-02</td>\n",
       "      <td>-2.491646e-02</td>\n",
       "      <td>-7.386517e-01</td>\n",
       "      <td>-3.720718e-01</td>\n",
       "      <td>4.903861e-01</td>\n",
       "      <td>-6.348627e-02</td>\n",
       "    </tr>\n",
       "    <tr>\n",
       "      <th>75%</th>\n",
       "      <td>46146.000000</td>\n",
       "      <td>2016.000000</td>\n",
       "      <td>266.000000</td>\n",
       "      <td>90.000000</td>\n",
       "      <td>1.000000e+00</td>\n",
       "      <td>38.000000</td>\n",
       "      <td>0.000000</td>\n",
       "      <td>2.000000</td>\n",
       "      <td>5.000000e+08</td>\n",
       "      <td>1.000000</td>\n",
       "      <td>1.122097e+00</td>\n",
       "      <td>1.121375e+00</td>\n",
       "      <td>1.087352e+00</td>\n",
       "      <td>-3.720718e-01</td>\n",
       "      <td>4.903861e-01</td>\n",
       "      <td>7.368739e-01</td>\n",
       "    </tr>\n",
       "    <tr>\n",
       "      <th>max</th>\n",
       "      <td>61950.000000</td>\n",
       "      <td>2018.000000</td>\n",
       "      <td>365.000000</td>\n",
       "      <td>144.000000</td>\n",
       "      <td>1.866717e+03</td>\n",
       "      <td>14494.000000</td>\n",
       "      <td>13833.000000</td>\n",
       "      <td>11746.000000</td>\n",
       "      <td>1.067816e+13</td>\n",
       "      <td>1.000000</td>\n",
       "      <td>1.336270e+00</td>\n",
       "      <td>2.502569e+00</td>\n",
       "      <td>1.720990e+00</td>\n",
       "      <td>2.904817e+00</td>\n",
       "      <td>3.060208e+00</td>\n",
       "      <td>2.519937e+00</td>\n",
       "    </tr>\n",
       "  </tbody>\n",
       "</table>\n",
       "</div>"
      ],
      "text/plain": [
       "            address          year           day        length        weight  \\\n",
       "count  82826.000000  82826.000000  82826.000000  82826.000000  8.282600e+04   \n",
       "mean   30610.651861   2014.673001    178.385121     42.892232  6.068181e-01   \n",
       "std    17711.101329      1.883032     99.762367     58.575369  6.925135e+00   \n",
       "min        0.000000   2011.000000      1.000000      0.000000  6.493017e-80   \n",
       "25%    15069.250000   2013.000000     91.000000      2.000000  3.571429e-02   \n",
       "50%    30775.500000   2015.000000    169.000000      8.000000  3.146329e-01   \n",
       "75%    46146.000000   2016.000000    266.000000     90.000000  1.000000e+00   \n",
       "max    61950.000000   2018.000000    365.000000    144.000000  1.866717e+03   \n",
       "\n",
       "              count        looped     neighbors        income         label  \\\n",
       "count  82826.000000  82826.000000  82826.000000  8.282600e+04  82826.000000   \n",
       "mean     658.708316    167.566960      2.245189  2.299863e+09      0.500000   \n",
       "std     1566.799238    781.278102     41.365659  5.160580e+10      0.500003   \n",
       "min        1.000000      0.000000      1.000000  3.000000e+07      0.000000   \n",
       "25%        1.000000      0.000000      1.000000  8.000000e+07      0.000000   \n",
       "50%        1.000000      0.000000      2.000000  1.584871e+08      0.500000   \n",
       "75%       38.000000      0.000000      2.000000  5.000000e+08      1.000000   \n",
       "max    14494.000000  13833.000000  11746.000000  1.067816e+13      1.000000   \n",
       "\n",
       "           length_t      weight_t       count_t      looped_t   neighbors_t  \\\n",
       "count  8.282600e+04  8.282600e+04  8.282600e+04  8.282600e+04  8.282600e+04   \n",
       "mean   7.907695e-15 -9.215578e-15  2.649182e-15 -2.283879e-14  1.087646e-14   \n",
       "std    1.000006e+00  1.000006e+00  1.000006e+00  1.000006e+00  1.000006e+00   \n",
       "min   -1.301079e+00 -1.245293e+00 -7.386517e-01 -3.720718e-01 -1.255511e+00   \n",
       "25%   -6.477988e-01 -1.060596e+00 -7.386517e-01 -3.720718e-01 -1.255511e+00   \n",
       "50%   -3.707359e-02 -2.491646e-02 -7.386517e-01 -3.720718e-01  4.903861e-01   \n",
       "75%    1.122097e+00  1.121375e+00  1.087352e+00 -3.720718e-01  4.903861e-01   \n",
       "max    1.336270e+00  2.502569e+00  1.720990e+00  2.904817e+00  3.060208e+00   \n",
       "\n",
       "           income_t  \n",
       "count  8.282600e+04  \n",
       "mean  -7.532922e-14  \n",
       "std    1.000006e+00  \n",
       "min   -1.868294e+00  \n",
       "25%   -6.942477e-01  \n",
       "50%   -6.348627e-02  \n",
       "75%    7.368739e-01  \n",
       "max    2.519937e+00  "
      ]
     },
     "execution_count": 4,
     "metadata": {},
     "output_type": "execute_result"
    }
   ],
   "source": [
    "df_new.describe()"
   ]
  },
  {
   "cell_type": "code",
   "execution_count": 5,
   "id": "6a30d2f5",
   "metadata": {},
   "outputs": [],
   "source": [
    "df_new.drop(columns=[\"length\",\"weight\",\"count\",\"looped\",\"neighbors\",\"income\"], inplace=True)"
   ]
  },
  {
   "cell_type": "code",
   "execution_count": 6,
   "id": "2bfd6d2f-1a01-4382-92b1-2e3b39b177eb",
   "metadata": {},
   "outputs": [],
   "source": [
    "X_train, X_test, y_train, y_test = train_test_split(df_new.drop(columns=['label','address']), df_new['label'], \n",
    "                                                    test_size = 0.25, random_state=42)\n"
   ]
  },
  {
   "cell_type": "code",
   "execution_count": 7,
   "id": "1f6bface-ba47-4508-91d5-40a192d3e3a0",
   "metadata": {},
   "outputs": [
    {
     "name": "stderr",
     "output_type": "stream",
     "text": [
      "/Users/muntaha/opt/anaconda3/lib/python3.8/site-packages/sklearn/linear_model/_stochastic_gradient.py:574: ConvergenceWarning: Maximum number of iteration reached before convergence. Consider increasing max_iter to improve the fit.\n",
      "  warnings.warn(\"Maximum number of iteration reached before \"\n"
     ]
    }
   ],
   "source": [
    "classifier = SGDClassifier(loss='log', max_iter=100) \n",
    "model = classifier.fit(X_train, y_train)\n",
    "y_pred = model.predict(X_test)"
   ]
  },
  {
   "cell_type": "code",
   "execution_count": 8,
   "id": "9e519e6a-2f9c-4762-ad5d-e6fc1f0bbf51",
   "metadata": {},
   "outputs": [
    {
     "name": "stdout",
     "output_type": "stream",
     "text": [
      "The accuracy of the model is : 53.0 %\n",
      "Confusion Matrix:\n",
      " [[7349 2990]\n",
      " [6764 3604]]\n"
     ]
    }
   ],
   "source": [
    "accuracy = accuracy_score(y_test,y_pred)\n",
    "conf_mat = confusion_matrix(y_test,y_pred)\n",
    "print(\"The accuracy of the model is :\", round(accuracy,2)*100,\"%\")\n",
    "print(\"Confusion Matrix:\\n\", conf_mat)"
   ]
  },
  {
   "cell_type": "code",
   "execution_count": 9,
   "id": "0825f86b-9337-49ad-9487-4e5f5649e200",
   "metadata": {},
   "outputs": [
    {
     "name": "stdout",
     "output_type": "stream",
     "text": [
      "Precision =  0.5466 \n",
      "Recall =  0.3476 \n",
      "F-Score =  0.4249\n"
     ]
    }
   ],
   "source": [
    "precision, recall, fscore, support = precision_recall_fscore_support(y_test, y_pred, average='binary')\n",
    "print('Precision = ',round(precision,4),'\\nRecall = ', round(recall,4), '\\nF-Score = ',round(fscore,4))"
   ]
  },
  {
   "cell_type": "code",
   "execution_count": 10,
   "id": "117f0b75-295c-451f-b595-50791b927bb6",
   "metadata": {},
   "outputs": [],
   "source": [
    "scaler = StandardScaler()\n",
    "X_train_scaled = scaler.fit_transform(X_train)\n",
    "X_test_scaled = scaler.fit_transform(X_test)\n"
   ]
  },
  {
   "cell_type": "code",
   "execution_count": 11,
   "id": "f0ca0313-a96d-420e-b3ac-81b314a94904",
   "metadata": {
    "jupyter": {
     "source_hidden": true
    },
    "tags": []
   },
   "outputs": [],
   "source": [
    "classifier = SGDClassifier(loss='log', max_iter=100) \n",
    "model = classifier.fit(X_train_scaled, y_train)\n",
    "y_pred = model.predict(X_test_scaled)"
   ]
  },
  {
   "cell_type": "code",
   "execution_count": 12,
   "id": "1826b9bd-65f1-4d70-9e4f-24cea16ce7a2",
   "metadata": {},
   "outputs": [
    {
     "name": "stdout",
     "output_type": "stream",
     "text": [
      "The accuracy of the model is : 55.00000000000001 %\n",
      "Confusion Matrix:\n",
      " [[6873 3466]\n",
      " [5923 4445]]\n"
     ]
    }
   ],
   "source": [
    "accuracy = accuracy_score(y_test,y_pred)\n",
    "conf_mat = confusion_matrix(y_test,y_pred)\n",
    "print(\"The accuracy of the model is :\", round(accuracy,2)*100,\"%\")\n",
    "print(\"Confusion Matrix:\\n\", conf_mat)"
   ]
  },
  {
   "cell_type": "code",
   "execution_count": 13,
   "id": "5f988fdf-a5bd-4f8d-85b5-9f9510bc7067",
   "metadata": {},
   "outputs": [
    {
     "name": "stdout",
     "output_type": "stream",
     "text": [
      "Precision =  0.5619 \n",
      "Recall =  0.4287 \n",
      "F-Score =  0.4864\n"
     ]
    }
   ],
   "source": [
    "precision, recall, fscore, support = precision_recall_fscore_support(y_test, y_pred, average='binary')\n",
    "print('Precision = ',round(precision,4),'\\nRecall = ', round(recall,4), '\\nF-Score = ',round(fscore,4))"
   ]
  },
  {
   "cell_type": "code",
   "execution_count": 14,
   "id": "d4eca8bc-4ec8-4a1b-8f7d-05b379d1d484",
   "metadata": {},
   "outputs": [],
   "source": [
    "scaler = MinMaxScaler()\n",
    "X_train_scaled = scaler.fit_transform(X_train)\n",
    "X_test_scaled = scaler.fit_transform(X_test)\n"
   ]
  },
  {
   "cell_type": "code",
   "execution_count": 15,
   "id": "6274ea68-49e2-4582-aee1-81734929db8c",
   "metadata": {},
   "outputs": [],
   "source": [
    "classifier = SGDClassifier(loss='log', max_iter=100) \n",
    "model = classifier.fit(X_train_scaled, y_train)\n",
    "y_pred = model.predict(X_test_scaled)"
   ]
  },
  {
   "cell_type": "code",
   "execution_count": 16,
   "id": "ccd092d5-ca86-4dd7-b3de-ee6e529109a2",
   "metadata": {},
   "outputs": [
    {
     "name": "stdout",
     "output_type": "stream",
     "text": [
      "The accuracy of the model is : 59.0 %\n",
      "Confusion Matrix:\n",
      " [[5461 4878]\n",
      " [3614 6754]]\n"
     ]
    }
   ],
   "source": [
    "accuracy = accuracy_score(y_test,y_pred)\n",
    "conf_mat = confusion_matrix(y_test,y_pred)\n",
    "print(\"The accuracy of the model is :\", round(accuracy,2)*100,\"%\")\n",
    "print(\"Confusion Matrix:\\n\", conf_mat)"
   ]
  },
  {
   "cell_type": "code",
   "execution_count": 17,
   "id": "e567ae58-b8a8-4745-afdc-7913c0f4748a",
   "metadata": {},
   "outputs": [
    {
     "name": "stdout",
     "output_type": "stream",
     "text": [
      "Precision =  0.5806 \n",
      "Recall =  0.6514 \n",
      "F-Score =  0.614\n"
     ]
    }
   ],
   "source": [
    "precision, recall, fscore, support = precision_recall_fscore_support(y_test, y_pred, average='binary')\n",
    "print('Precision = ',round(precision,4),'\\nRecall = ', round(recall,4), '\\nF-Score = ',round(fscore,4))"
   ]
  },
  {
   "cell_type": "code",
   "execution_count": null,
   "id": "e7d9ec6e-9a24-4c8e-bce5-4ce8dcf2e236",
   "metadata": {},
   "outputs": [],
   "source": []
  },
  {
   "cell_type": "markdown",
   "id": "b8637ed0-547a-4928-a3a5-e5cb0d6e613d",
   "metadata": {},
   "source": [
    "### SVM model"
   ]
  },
  {
   "cell_type": "code",
   "execution_count": 17,
   "id": "7e38a465-2252-4952-a25d-745ae0e30f7a",
   "metadata": {},
   "outputs": [],
   "source": [
    "# Scale\n",
    "scaler = MinMaxScaler()\n",
    "X_train_scaled = scaler.fit_transform(X_train)\n",
    "X_test_scaled = scaler.fit_transform(X_test)"
   ]
  },
  {
   "cell_type": "code",
   "execution_count": 19,
   "id": "f95cb8f0-be81-4196-80fb-f87906fe2407",
   "metadata": {},
   "outputs": [],
   "source": [
    "# work on Balanced DATA (Random sampling)\n",
    "model = SVC(kernel='rbf', random_state = 2)"
   ]
  },
  {
   "cell_type": "code",
   "execution_count": null,
   "id": "2f330997-bf29-4962-95ff-f368121682a0",
   "metadata": {},
   "outputs": [],
   "source": [
    "model.fit(X_train, y_train)"
   ]
  },
  {
   "cell_type": "code",
   "execution_count": null,
   "id": "b4400f27-5015-4c63-87e3-d78dff8055ba",
   "metadata": {},
   "outputs": [],
   "source": [
    "Y_pred = model.predict(X_test)"
   ]
  },
  {
   "cell_type": "code",
   "execution_count": null,
   "id": "ed62f7af-7c10-4be9-9381-22607c23379f",
   "metadata": {},
   "outputs": [],
   "source": [
    "Y_pred"
   ]
  },
  {
   "cell_type": "code",
   "execution_count": null,
   "id": "1368f991-7517-4b71-8965-73ed781d7485",
   "metadata": {},
   "outputs": [],
   "source": [
    "cm = confusion_matrix(y_test,Y_pred)\n",
    "accuracy = float(cm.diagonal().sum())/len(y_test)\n",
    "print(\"\\nSVM Accuracy: \", accuracy)"
   ]
  },
  {
   "cell_type": "code",
   "execution_count": null,
   "id": "0f6a891e-0a6f-490e-96ed-8c527836b13c",
   "metadata": {},
   "outputs": [],
   "source": [
    "precision, recall, fscore, support = precision_recall_fscore_support(y_test, Y_pred, average='binary')\n",
    "print('Precision = ',round(precision,4),'\\nRecall = ', round(recall,4), '\\nF-Score = ',round(fscore,4))"
   ]
  },
  {
   "cell_type": "code",
   "execution_count": null,
   "id": "517230c9-c1a3-4905-b771-8c0f2c9e4e45",
   "metadata": {},
   "outputs": [],
   "source": [
    "model = model.fit(X_train_scaled, y_train)\n",
    "y_pred_ = model.predict(X_test_scaled)"
   ]
  },
  {
   "cell_type": "code",
   "execution_count": null,
   "id": "1f0424dc-0d97-4e8e-946e-40e4aaa9208e",
   "metadata": {},
   "outputs": [],
   "source": [
    "precision, recall, fscore, support = precision_recall_fscore_support(y_test, y_pred_, average='binary')\n",
    "print('Precision = ',round(precision,4),'\\nRecall = ', round(recall,4), '\\nF-Score = ',round(fscore,4))"
   ]
  },
  {
   "cell_type": "code",
   "execution_count": null,
   "id": "f5ac4df9-bfd6-41f3-89ed-d0d45428afb2",
   "metadata": {},
   "outputs": [],
   "source": [
    "cm = confusion_matrix(y_test,y_pred_)\n",
    "accuracy = float(cm.diagonal().sum())/len(y_test)\n",
    "print(\"\\nSVM Accuracy: \", accuracy)"
   ]
  },
  {
   "cell_type": "code",
   "execution_count": null,
   "id": "e26fb0ce-fcfd-490d-af05-ce02db148033",
   "metadata": {},
   "outputs": [],
   "source": [
    "accuracy = accuracy_score(y_test,y_pred_)\n",
    "conf_mat = confusion_matrix(y_test,y_pred_)\n",
    "print(\"The accuracy of the model is :\", round(accuracy,2)*100,\"%\")\n",
    "print(\"Confusion Matrix:\\n\", conf_mat)"
   ]
  },
  {
   "cell_type": "code",
   "execution_count": null,
   "id": "8ee21b93-820d-4468-803f-cb4e1b0299ab",
   "metadata": {},
   "outputs": [],
   "source": [
    "model.score(X_test,y_test)"
   ]
  },
  {
   "cell_type": "markdown",
   "id": "0aa53b4e-e70c-4575-a01e-e6a8e9267608",
   "metadata": {
    "jp-MarkdownHeadingCollapsed": true,
    "tags": []
   },
   "source": [
    "### Random Forest model"
   ]
  },
  {
   "cell_type": "code",
   "execution_count": 17,
   "id": "75ce39eb-1732-4ffb-b4ae-c2b5b4b199cf",
   "metadata": {},
   "outputs": [],
   "source": [
    "# work on Balanced DATA (Random sampling)\n",
    "model = RandomForestClassifier(max_depth=3,random_state=2)"
   ]
  },
  {
   "cell_type": "code",
   "execution_count": 19,
   "id": "20d98a30-d206-4449-8f97-e797444c88c3",
   "metadata": {},
   "outputs": [],
   "source": [
    "model = model.fit(X_train,y_train)"
   ]
  },
  {
   "cell_type": "code",
   "execution_count": 20,
   "id": "70140f41-350c-442b-8816-b62a18403d9b",
   "metadata": {},
   "outputs": [
    {
     "data": {
      "text/plain": [
       "0.7459796204182161"
      ]
     },
     "execution_count": 20,
     "metadata": {},
     "output_type": "execute_result"
    }
   ],
   "source": [
    "model.score(X_test,y_test)"
   ]
  },
  {
   "cell_type": "code",
   "execution_count": 21,
   "id": "73135c2d-8baf-4d61-8d61-91059ee3cbf0",
   "metadata": {},
   "outputs": [],
   "source": [
    "Y_pred = model.predict(X_test)"
   ]
  },
  {
   "cell_type": "code",
   "execution_count": 22,
   "id": "c3cd4175-a446-4b81-b748-7748c0b0e629",
   "metadata": {},
   "outputs": [
    {
     "name": "stdout",
     "output_type": "stream",
     "text": [
      "Precision =  0.6946 \n",
      "Recall =  0.8791 \n",
      "F-Score =  0.7761\n"
     ]
    }
   ],
   "source": [
    "precision, recall, fscore, support = precision_recall_fscore_support(y_test, Y_pred, average='binary')\n",
    "print('Precision = ',round(precision,4),'\\nRecall = ', round(recall,4), '\\nF-Score = ',round(fscore,4))"
   ]
  },
  {
   "cell_type": "markdown",
   "id": "534f8261-819a-4be4-befc-19073f4a1772",
   "metadata": {},
   "source": [
    "### Try the model with transformed data "
   ]
  },
  {
   "cell_type": "code",
   "execution_count": 22,
   "id": "6d06ad6f-5333-4cf8-b965-e7843fac1b57",
   "metadata": {},
   "outputs": [
    {
     "name": "stdout",
     "output_type": "stream",
     "text": [
      "0.7630269957019366\n",
      "Precision =  0.7181 \n",
      "Recall =  0.8671 \n",
      "F-Score =  0.7856\n"
     ]
    }
   ],
   "source": [
    "model = RandomForestClassifier(max_depth=5,random_state=42)\n",
    "model = model.fit(X_train,y_train)\n",
    "print(model.score(X_test,y_test))\n",
    "Y_pred = model.predict(X_test)\n",
    "precision, recall, fscore, support = precision_recall_fscore_support(y_test, Y_pred, average='binary')\n",
    "print('Precision = ',round(precision,4),'\\nRecall = ', round(recall,4), '\\nF-Score = ',round(fscore,4))"
   ]
  },
  {
   "cell_type": "code",
   "execution_count": null,
   "id": "cef37544-fa03-4659-ab1e-f00758a13436",
   "metadata": {},
   "outputs": [],
   "source": []
  },
  {
   "cell_type": "markdown",
   "id": "cd494c04",
   "metadata": {},
   "source": [
    "# Gradient boosted tree"
   ]
  },
  {
   "cell_type": "code",
   "execution_count": 29,
   "id": "6cc848b8",
   "metadata": {},
   "outputs": [
    {
     "name": "stdout",
     "output_type": "stream",
     "text": [
      "0.8412131163374704\n",
      "Precision =  0.8112 \n",
      "Recall =  0.8899 \n",
      "F-Score =  0.8488\n"
     ]
    }
   ],
   "source": [
    "model = GradientBoostingClassifier()\n",
    "model = model.fit(X_train,y_train)\n",
    "\n",
    "print(model.score(X_test,y_test))\n",
    "\n",
    "Y_pred = model.predict(X_test)\n",
    "precision, recall, fscore, support = precision_recall_fscore_support(y_test, Y_pred, average='binary')\n",
    "print('Precision = ',round(precision,4),'\\nRecall = ', round(recall,4), '\\nF-Score = ',round(fscore,4))\n"
   ]
  },
  {
   "cell_type": "code",
   "execution_count": 25,
   "id": "c1c0034e",
   "metadata": {},
   "outputs": [
    {
     "name": "stdout",
     "output_type": "stream",
     "text": [
      "              precision    recall  f1-score   support\n",
      "\n",
      "           0       0.88      0.79      0.83     10339\n",
      "           1       0.81      0.89      0.85     10368\n",
      "\n",
      "    accuracy                           0.84     20707\n",
      "   macro avg       0.84      0.84      0.84     20707\n",
      "weighted avg       0.84      0.84      0.84     20707\n",
      "\n"
     ]
    }
   ],
   "source": [
    "from sklearn.metrics import classification_report\n",
    "print(classification_report(y_test, Y_pred, target_names=['0','1'], zero_division=0))"
   ]
  },
  {
   "cell_type": "code",
   "execution_count": 26,
   "id": "8ec65e38",
   "metadata": {},
   "outputs": [],
   "source": [
    "# Scale MinMaxScaler\n",
    "scaler = MinMaxScaler()\n",
    "X_train_scaled = scaler.fit_transform(X_train)\n",
    "X_test_scaled = scaler.fit_transform(X_test)"
   ]
  },
  {
   "cell_type": "code",
   "execution_count": 27,
   "id": "82ff1103",
   "metadata": {},
   "outputs": [],
   "source": [
    "model = model.fit(X_train_scaled, y_train)\n",
    "y_pred_ = model.predict(X_test_scaled)"
   ]
  },
  {
   "cell_type": "code",
   "execution_count": 28,
   "id": "d37e5779",
   "metadata": {},
   "outputs": [
    {
     "name": "stdout",
     "output_type": "stream",
     "text": [
      "Precision =  0.8084 \n",
      "Recall =  0.8751 \n",
      "F-Score =  0.8404\n"
     ]
    }
   ],
   "source": [
    "precision, recall, fscore, support = precision_recall_fscore_support(y_test, y_pred_, average='binary')\n",
    "print('Precision = ',round(precision,4),'\\nRecall = ', round(recall,4), '\\nF-Score = ',round(fscore,4))"
   ]
  },
  {
   "cell_type": "code",
   "execution_count": 30,
   "id": "a9060f6a",
   "metadata": {},
   "outputs": [],
   "source": [
    "# standared\n",
    "scaler = StandardScaler()\n",
    "X_train_scaled = scaler.fit_transform(X_train)\n",
    "X_test_scaled = scaler.fit_transform(X_test)"
   ]
  },
  {
   "cell_type": "code",
   "execution_count": 31,
   "id": "093bbd1a",
   "metadata": {},
   "outputs": [],
   "source": [
    "model = model.fit(X_train_scaled, y_train)\n",
    "y_pred_ = model.predict(X_test_scaled)"
   ]
  },
  {
   "cell_type": "code",
   "execution_count": 32,
   "id": "bfa118be",
   "metadata": {},
   "outputs": [
    {
     "name": "stdout",
     "output_type": "stream",
     "text": [
      "Precision =  0.8031 \n",
      "Recall =  0.8805 \n",
      "F-Score =  0.84\n"
     ]
    }
   ],
   "source": [
    "precision, recall, fscore, support = precision_recall_fscore_support(y_test, y_pred_, average='binary')\n",
    "print('Precision = ',round(precision,4),'\\nRecall = ', round(recall,4), '\\nF-Score = ',round(fscore,4))"
   ]
  },
  {
   "cell_type": "code",
   "execution_count": null,
   "id": "46d3ed7a",
   "metadata": {},
   "outputs": [],
   "source": []
  },
  {
   "cell_type": "markdown",
   "id": "cf69d52c",
   "metadata": {},
   "source": [
    "## naive bayes"
   ]
  },
  {
   "cell_type": "code",
   "execution_count": 36,
   "id": "457f64f8",
   "metadata": {},
   "outputs": [
    {
     "name": "stdout",
     "output_type": "stream",
     "text": [
      "Precision =  0.8112 \n",
      "Recall =  0.8899 \n",
      "F-Score =  0.8488\n"
     ]
    }
   ],
   "source": [
    "from sklearn.naive_bayes import GaussianNB\n",
    "gnb = GaussianNB()\n",
    "y_pred = gnb.fit(X_train, y_train).predict(X_test)\n",
    "\n",
    "precision, recall, fscore, support = precision_recall_fscore_support(y_test, Y_pred, average='binary')\n",
    "print('Precision = ',round(precision,4),'\\nRecall = ', round(recall,4), '\\nF-Score = ',round(fscore,4))\n"
   ]
  },
  {
   "cell_type": "code",
   "execution_count": null,
   "id": "98668229",
   "metadata": {},
   "outputs": [],
   "source": []
  },
  {
   "cell_type": "markdown",
   "id": "383e9ba4-7e63-4370-af49-98fd98013f33",
   "metadata": {},
   "source": [
    "# All Models"
   ]
  },
  {
   "cell_type": "code",
   "execution_count": null,
   "id": "33bc5bfc-f09d-46b9-bfaa-969082a7c3b9",
   "metadata": {},
   "outputs": [],
   "source": [
    "# Create Function to fit on All models and Calculat it's score, F1, Prec, Recall ... etc. "
   ]
  }
 ],
 "metadata": {
  "kernelspec": {
   "display_name": "Python 3",
   "language": "python",
   "name": "python3"
  },
  "language_info": {
   "codemirror_mode": {
    "name": "ipython",
    "version": 3
   },
   "file_extension": ".py",
   "mimetype": "text/x-python",
   "name": "python",
   "nbconvert_exporter": "python",
   "pygments_lexer": "ipython3",
   "version": "3.8.8"
  }
 },
 "nbformat": 4,
 "nbformat_minor": 5
}
