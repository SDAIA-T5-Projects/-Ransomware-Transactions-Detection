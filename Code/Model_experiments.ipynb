{
 "cells": [
  {
   "cell_type": "code",
<<<<<<< HEAD
   "execution_count": 11,
=======
   "execution_count": 3,
>>>>>>> 8751def55cd169f92a4c83c7c3e6f805f653725b
   "id": "0cd4db15-e487-4fbd-8db6-adae52bbc791",
   "metadata": {},
   "outputs": [],
   "source": [
    "import pandas as pd\n",
    "import numpy as np\n",
    "\n",
    "\n",
    "from sklearn.linear_model import LogisticRegression, SGDClassifier\n",
    "from sklearn.model_selection import train_test_split\n",
    "from sklearn.metrics import precision_score, recall_score, accuracy_score, roc_auc_score, confusion_matrix, precision_recall_fscore_support\n",
    "from sklearn.metrics import confusion_matrix\n",
    "from sklearn.preprocessing import StandardScaler, MinMaxScaler\n",
    "from sklearn.svm import SVC\n",
    "from sklearn.neighbors import KNeighborsClassifier\n",
    "from sklearn.tree import DecisionTreeClassifier\n",
<<<<<<< HEAD
    "from sklearn.ensemble import RandomForestClassifier, ExtraTreesClassifier\n",
    "\n",
    "from sklearn import preprocessing, neighbors\n"
=======
    "from sklearn.ensemble import RandomForestClassifier\n",
    "from sklearn import preprocessing, neighbors\n",
    "from sklearn import linear_model, neighbors, ensemble\n",
    "import pickle\n",
    "from sklearn.ensemble import GradientBoostingClassifier, VotingClassifier\n",
    "from mlxtend.classifier import StackingClassifier # <-- note: this is not from sklearn!\n",
    "from sklearn.metrics import precision_score, recall_score, accuracy_score, roc_auc_score, confusion_matrix, precision_recall_fscore_support\n",
    "from sklearn.metrics import plot_confusion_matrix\n",
    "from sklearn.naive_bayes import GaussianNB\n"
>>>>>>> 8751def55cd169f92a4c83c7c3e6f805f653725b
   ]
  },
  {
   "cell_type": "code",
   "execution_count": 4,
   "id": "9385a1a8",
   "metadata": {},
   "outputs": [],
   "source": [
    "from sklearn.ensemble import GradientBoostingClassifier"
   ]
  },
  {
   "cell_type": "code",
   "execution_count": 5,
   "id": "4075c769-cbc5-4d1a-858c-7f0963decd18",
   "metadata": {},
   "outputs": [],
   "source": [
    "df_new = pd.read_csv(\"../Data/BMT_balanced_encoded_address.csv\",index_col= 0)"
   ]
  },
  {
   "cell_type": "code",
   "execution_count": 6,
   "id": "fbd19b90",
   "metadata": {},
   "outputs": [
    {
     "data": {
      "text/html": [
       "<div>\n",
       "<style scoped>\n",
       "    .dataframe tbody tr th:only-of-type {\n",
       "        vertical-align: middle;\n",
       "    }\n",
       "\n",
       "    .dataframe tbody tr th {\n",
       "        vertical-align: top;\n",
       "    }\n",
       "\n",
       "    .dataframe thead th {\n",
       "        text-align: right;\n",
       "    }\n",
       "</style>\n",
       "<table border=\"1\" class=\"dataframe\">\n",
       "  <thead>\n",
       "    <tr style=\"text-align: right;\">\n",
       "      <th></th>\n",
       "      <th>address</th>\n",
       "      <th>year</th>\n",
       "      <th>day</th>\n",
       "      <th>length</th>\n",
       "      <th>weight</th>\n",
       "      <th>count</th>\n",
       "      <th>looped</th>\n",
       "      <th>neighbors</th>\n",
       "      <th>income</th>\n",
       "      <th>label</th>\n",
       "      <th>length_t</th>\n",
       "      <th>weight_t</th>\n",
       "      <th>count_t</th>\n",
       "      <th>looped_t</th>\n",
       "      <th>neighbors_t</th>\n",
       "      <th>income_t</th>\n",
       "    </tr>\n",
       "  </thead>\n",
       "  <tbody>\n",
       "    <tr>\n",
       "      <th>count</th>\n",
       "      <td>82826.000000</td>\n",
       "      <td>82826.000000</td>\n",
       "      <td>82826.000000</td>\n",
       "      <td>82826.000000</td>\n",
       "      <td>8.282600e+04</td>\n",
       "      <td>82826.000000</td>\n",
       "      <td>82826.000000</td>\n",
       "      <td>82826.000000</td>\n",
       "      <td>8.282600e+04</td>\n",
       "      <td>82826.000000</td>\n",
       "      <td>8.282600e+04</td>\n",
       "      <td>8.282600e+04</td>\n",
       "      <td>8.282600e+04</td>\n",
       "      <td>8.282600e+04</td>\n",
       "      <td>8.282600e+04</td>\n",
       "      <td>8.282600e+04</td>\n",
       "    </tr>\n",
       "    <tr>\n",
       "      <th>mean</th>\n",
       "      <td>30610.651861</td>\n",
       "      <td>2014.673001</td>\n",
       "      <td>178.385121</td>\n",
       "      <td>42.892232</td>\n",
       "      <td>6.068181e-01</td>\n",
       "      <td>658.708316</td>\n",
       "      <td>167.566960</td>\n",
       "      <td>2.245189</td>\n",
       "      <td>2.299863e+09</td>\n",
       "      <td>0.500000</td>\n",
       "      <td>7.907695e-15</td>\n",
       "      <td>-9.215578e-15</td>\n",
       "      <td>2.649182e-15</td>\n",
       "      <td>-2.283879e-14</td>\n",
       "      <td>1.087646e-14</td>\n",
       "      <td>-7.532922e-14</td>\n",
       "    </tr>\n",
       "    <tr>\n",
       "      <th>std</th>\n",
       "      <td>17711.101329</td>\n",
       "      <td>1.883032</td>\n",
       "      <td>99.762367</td>\n",
       "      <td>58.575369</td>\n",
       "      <td>6.925135e+00</td>\n",
       "      <td>1566.799238</td>\n",
       "      <td>781.278102</td>\n",
       "      <td>41.365659</td>\n",
       "      <td>5.160580e+10</td>\n",
       "      <td>0.500003</td>\n",
       "      <td>1.000006e+00</td>\n",
       "      <td>1.000006e+00</td>\n",
       "      <td>1.000006e+00</td>\n",
       "      <td>1.000006e+00</td>\n",
       "      <td>1.000006e+00</td>\n",
       "      <td>1.000006e+00</td>\n",
       "    </tr>\n",
       "    <tr>\n",
       "      <th>min</th>\n",
       "      <td>0.000000</td>\n",
       "      <td>2011.000000</td>\n",
       "      <td>1.000000</td>\n",
       "      <td>0.000000</td>\n",
       "      <td>6.493017e-80</td>\n",
       "      <td>1.000000</td>\n",
       "      <td>0.000000</td>\n",
       "      <td>1.000000</td>\n",
       "      <td>3.000000e+07</td>\n",
       "      <td>0.000000</td>\n",
       "      <td>-1.301079e+00</td>\n",
       "      <td>-1.245293e+00</td>\n",
       "      <td>-7.386517e-01</td>\n",
       "      <td>-3.720718e-01</td>\n",
       "      <td>-1.255511e+00</td>\n",
       "      <td>-1.868294e+00</td>\n",
       "    </tr>\n",
       "    <tr>\n",
       "      <th>25%</th>\n",
       "      <td>15069.250000</td>\n",
       "      <td>2013.000000</td>\n",
       "      <td>91.000000</td>\n",
       "      <td>2.000000</td>\n",
       "      <td>3.571429e-02</td>\n",
       "      <td>1.000000</td>\n",
       "      <td>0.000000</td>\n",
       "      <td>1.000000</td>\n",
       "      <td>8.000000e+07</td>\n",
       "      <td>0.000000</td>\n",
       "      <td>-6.477988e-01</td>\n",
       "      <td>-1.060596e+00</td>\n",
       "      <td>-7.386517e-01</td>\n",
       "      <td>-3.720718e-01</td>\n",
       "      <td>-1.255511e+00</td>\n",
       "      <td>-6.942477e-01</td>\n",
       "    </tr>\n",
       "    <tr>\n",
       "      <th>50%</th>\n",
       "      <td>30775.500000</td>\n",
       "      <td>2015.000000</td>\n",
       "      <td>169.000000</td>\n",
       "      <td>8.000000</td>\n",
       "      <td>3.146329e-01</td>\n",
       "      <td>1.000000</td>\n",
       "      <td>0.000000</td>\n",
       "      <td>2.000000</td>\n",
       "      <td>1.584871e+08</td>\n",
       "      <td>0.500000</td>\n",
       "      <td>-3.707359e-02</td>\n",
       "      <td>-2.491646e-02</td>\n",
       "      <td>-7.386517e-01</td>\n",
       "      <td>-3.720718e-01</td>\n",
       "      <td>4.903861e-01</td>\n",
       "      <td>-6.348627e-02</td>\n",
       "    </tr>\n",
       "    <tr>\n",
       "      <th>75%</th>\n",
       "      <td>46146.000000</td>\n",
       "      <td>2016.000000</td>\n",
       "      <td>266.000000</td>\n",
       "      <td>90.000000</td>\n",
       "      <td>1.000000e+00</td>\n",
       "      <td>38.000000</td>\n",
       "      <td>0.000000</td>\n",
       "      <td>2.000000</td>\n",
       "      <td>5.000000e+08</td>\n",
       "      <td>1.000000</td>\n",
       "      <td>1.122097e+00</td>\n",
       "      <td>1.121375e+00</td>\n",
       "      <td>1.087352e+00</td>\n",
       "      <td>-3.720718e-01</td>\n",
       "      <td>4.903861e-01</td>\n",
       "      <td>7.368739e-01</td>\n",
       "    </tr>\n",
       "    <tr>\n",
       "      <th>max</th>\n",
       "      <td>61950.000000</td>\n",
       "      <td>2018.000000</td>\n",
       "      <td>365.000000</td>\n",
       "      <td>144.000000</td>\n",
       "      <td>1.866717e+03</td>\n",
       "      <td>14494.000000</td>\n",
       "      <td>13833.000000</td>\n",
       "      <td>11746.000000</td>\n",
       "      <td>1.067816e+13</td>\n",
       "      <td>1.000000</td>\n",
       "      <td>1.336270e+00</td>\n",
       "      <td>2.502569e+00</td>\n",
       "      <td>1.720990e+00</td>\n",
       "      <td>2.904817e+00</td>\n",
       "      <td>3.060208e+00</td>\n",
       "      <td>2.519937e+00</td>\n",
       "    </tr>\n",
       "  </tbody>\n",
       "</table>\n",
       "</div>"
      ],
      "text/plain": [
       "            address          year           day        length        weight  \\\n",
       "count  82826.000000  82826.000000  82826.000000  82826.000000  8.282600e+04   \n",
       "mean   30610.651861   2014.673001    178.385121     42.892232  6.068181e-01   \n",
       "std    17711.101329      1.883032     99.762367     58.575369  6.925135e+00   \n",
       "min        0.000000   2011.000000      1.000000      0.000000  6.493017e-80   \n",
       "25%    15069.250000   2013.000000     91.000000      2.000000  3.571429e-02   \n",
       "50%    30775.500000   2015.000000    169.000000      8.000000  3.146329e-01   \n",
       "75%    46146.000000   2016.000000    266.000000     90.000000  1.000000e+00   \n",
       "max    61950.000000   2018.000000    365.000000    144.000000  1.866717e+03   \n",
       "\n",
       "              count        looped     neighbors        income         label  \\\n",
       "count  82826.000000  82826.000000  82826.000000  8.282600e+04  82826.000000   \n",
       "mean     658.708316    167.566960      2.245189  2.299863e+09      0.500000   \n",
       "std     1566.799238    781.278102     41.365659  5.160580e+10      0.500003   \n",
       "min        1.000000      0.000000      1.000000  3.000000e+07      0.000000   \n",
       "25%        1.000000      0.000000      1.000000  8.000000e+07      0.000000   \n",
       "50%        1.000000      0.000000      2.000000  1.584871e+08      0.500000   \n",
       "75%       38.000000      0.000000      2.000000  5.000000e+08      1.000000   \n",
       "max    14494.000000  13833.000000  11746.000000  1.067816e+13      1.000000   \n",
       "\n",
       "           length_t      weight_t       count_t      looped_t   neighbors_t  \\\n",
       "count  8.282600e+04  8.282600e+04  8.282600e+04  8.282600e+04  8.282600e+04   \n",
       "mean   7.907695e-15 -9.215578e-15  2.649182e-15 -2.283879e-14  1.087646e-14   \n",
       "std    1.000006e+00  1.000006e+00  1.000006e+00  1.000006e+00  1.000006e+00   \n",
       "min   -1.301079e+00 -1.245293e+00 -7.386517e-01 -3.720718e-01 -1.255511e+00   \n",
       "25%   -6.477988e-01 -1.060596e+00 -7.386517e-01 -3.720718e-01 -1.255511e+00   \n",
       "50%   -3.707359e-02 -2.491646e-02 -7.386517e-01 -3.720718e-01  4.903861e-01   \n",
       "75%    1.122097e+00  1.121375e+00  1.087352e+00 -3.720718e-01  4.903861e-01   \n",
       "max    1.336270e+00  2.502569e+00  1.720990e+00  2.904817e+00  3.060208e+00   \n",
       "\n",
       "           income_t  \n",
       "count  8.282600e+04  \n",
       "mean  -7.532922e-14  \n",
       "std    1.000006e+00  \n",
       "min   -1.868294e+00  \n",
       "25%   -6.942477e-01  \n",
       "50%   -6.348627e-02  \n",
       "75%    7.368739e-01  \n",
       "max    2.519937e+00  "
      ]
     },
     "execution_count": 6,
     "metadata": {},
     "output_type": "execute_result"
    }
   ],
   "source": [
    "df_new.describe()"
   ]
  },
  {
   "cell_type": "code",
   "execution_count": 7,
   "id": "6a30d2f5",
   "metadata": {},
   "outputs": [],
   "source": [
    "df_new.drop(columns=[\"length\",\"weight\",\"count\",\"looped\",\"neighbors\",\"income\"], inplace=True)"
   ]
  },
  {
   "cell_type": "code",
   "execution_count": 8,
   "id": "2bfd6d2f-1a01-4382-92b1-2e3b39b177eb",
   "metadata": {},
   "outputs": [],
   "source": [
    "X_train, X_test, y_train, y_test = train_test_split(df_new.drop(columns=['label']), df_new['label'], \n",
    "                                                    test_size = 0.33, random_state=42)\n"
   ]
  },
  {
   "cell_type": "code",
   "execution_count": 54,
   "id": "1f6bface-ba47-4508-91d5-40a192d3e3a0",
   "metadata": {},
   "outputs": [
    {
     "name": "stderr",
     "output_type": "stream",
     "text": [
      "/Users/muntaha/opt/anaconda3/lib/python3.8/site-packages/sklearn/linear_model/_stochastic_gradient.py:574: ConvergenceWarning: Maximum number of iteration reached before convergence. Consider increasing max_iter to improve the fit.\n",
      "  warnings.warn(\"Maximum number of iteration reached before \"\n"
     ]
    }
   ],
   "source": [
    "classifier = SGDClassifier(loss='log', max_iter=100) \n",
    "model = classifier.fit(X_train, y_train)\n",
    "y_pred = model.predict(X_test)"
   ]
  },
  {
   "cell_type": "code",
   "execution_count": 55,
   "id": "9e519e6a-2f9c-4762-ad5d-e6fc1f0bbf51",
   "metadata": {},
   "outputs": [
    {
     "name": "stdout",
     "output_type": "stream",
     "text": [
      "The accuracy of the model is : 50.0 %\n",
      "Confusion Matrix:\n",
      " [[   13 13647]\n",
      " [    2 13671]]\n"
     ]
    }
   ],
   "source": [
    "accuracy = accuracy_score(y_test,y_pred)\n",
    "conf_mat = confusion_matrix(y_test,y_pred)\n",
    "print(\"The accuracy of the model is :\", round(accuracy,2)*100,\"%\")\n",
    "print(\"Confusion Matrix:\\n\", conf_mat)"
   ]
  },
  {
   "cell_type": "code",
   "execution_count": 56,
   "id": "0825f86b-9337-49ad-9487-4e5f5649e200",
   "metadata": {},
   "outputs": [
    {
     "name": "stdout",
     "output_type": "stream",
     "text": [
      "Precision =  0.5004 \n",
      "Recall =  0.9999 \n",
      "F-Score =  0.667\n"
     ]
    }
   ],
   "source": [
    "precision, recall, fscore, support = precision_recall_fscore_support(y_test, y_pred, average='binary')\n",
    "print('Precision = ',round(precision,4),'\\nRecall = ', round(recall,4), '\\nF-Score = ',round(fscore,4))"
   ]
  },
  {
   "cell_type": "code",
   "execution_count": 57,
   "id": "117f0b75-295c-451f-b595-50791b927bb6",
   "metadata": {},
   "outputs": [],
   "source": [
    "scaler = StandardScaler()\n",
    "X_train_scaled = scaler.fit_transform(X_train)\n",
    "X_test_scaled = scaler.fit_transform(X_test)\n"
   ]
  },
  {
   "cell_type": "code",
   "execution_count": 58,
   "id": "f0ca0313-a96d-420e-b3ac-81b314a94904",
   "metadata": {
    "tags": []
   },
   "outputs": [],
   "source": [
    "classifier = SGDClassifier(loss='log', max_iter=100) \n",
    "model = classifier.fit(X_train_scaled, y_train)\n",
    "y_pred = model.predict(X_test_scaled)"
   ]
  },
  {
   "cell_type": "code",
   "execution_count": 59,
   "id": "1826b9bd-65f1-4d70-9e4f-24cea16ce7a2",
   "metadata": {},
   "outputs": [
    {
     "name": "stdout",
     "output_type": "stream",
     "text": [
      "The accuracy of the model is : 57.99999999999999 %\n",
      "Confusion Matrix:\n",
      " [[8170 5490]\n",
      " [6032 7641]]\n"
     ]
    }
   ],
   "source": [
    "accuracy = accuracy_score(y_test,y_pred)\n",
    "conf_mat = confusion_matrix(y_test,y_pred)\n",
    "print(\"The accuracy of the model is :\", round(accuracy,2)*100,\"%\")\n",
    "print(\"Confusion Matrix:\\n\", conf_mat)"
   ]
  },
  {
   "cell_type": "code",
   "execution_count": 60,
   "id": "5f988fdf-a5bd-4f8d-85b5-9f9510bc7067",
   "metadata": {},
   "outputs": [
    {
     "name": "stdout",
     "output_type": "stream",
     "text": [
      "Precision =  0.5819 \n",
      "Recall =  0.5588 \n",
      "F-Score =  0.5701\n"
     ]
    }
   ],
   "source": [
    "precision, recall, fscore, support = precision_recall_fscore_support(y_test, y_pred, average='binary')\n",
    "print('Precision = ',round(precision,4),'\\nRecall = ', round(recall,4), '\\nF-Score = ',round(fscore,4))"
   ]
  },
  {
   "cell_type": "code",
   "execution_count": 61,
   "id": "d4eca8bc-4ec8-4a1b-8f7d-05b379d1d484",
   "metadata": {},
   "outputs": [],
   "source": [
    "scaler = MinMaxScaler()\n",
    "X_train_scaled = scaler.fit_transform(X_train)\n",
    "X_test_scaled = scaler.fit_transform(X_test)\n"
   ]
  },
  {
   "cell_type": "code",
   "execution_count": 62,
   "id": "6274ea68-49e2-4582-aee1-81734929db8c",
   "metadata": {},
   "outputs": [],
   "source": [
    "classifier = SGDClassifier(loss='log', max_iter=100) \n",
    "model = classifier.fit(X_train_scaled, y_train)\n",
    "y_pred = model.predict(X_test_scaled)"
   ]
  },
  {
   "cell_type": "code",
   "execution_count": 63,
   "id": "ccd092d5-ca86-4dd7-b3de-ee6e529109a2",
   "metadata": {},
   "outputs": [
    {
     "name": "stdout",
     "output_type": "stream",
     "text": [
      "The accuracy of the model is : 57.99999999999999 %\n",
      "Confusion Matrix:\n",
      " [[8113 5547]\n",
      " [6030 7643]]\n"
     ]
    }
   ],
   "source": [
    "accuracy = accuracy_score(y_test,y_pred)\n",
    "conf_mat = confusion_matrix(y_test,y_pred)\n",
    "print(\"The accuracy of the model is :\", round(accuracy,2)*100,\"%\")\n",
    "print(\"Confusion Matrix:\\n\", conf_mat)"
   ]
  },
  {
   "cell_type": "code",
   "execution_count": 64,
   "id": "e567ae58-b8a8-4745-afdc-7913c0f4748a",
   "metadata": {},
   "outputs": [
    {
     "name": "stdout",
     "output_type": "stream",
     "text": [
      "Precision =  0.5795 \n",
      "Recall =  0.559 \n",
      "F-Score =  0.569\n"
     ]
    }
   ],
   "source": [
    "precision, recall, fscore, support = precision_recall_fscore_support(y_test, y_pred, average='binary')\n",
    "print('Precision = ',round(precision,4),'\\nRecall = ', round(recall,4), '\\nF-Score = ',round(fscore,4))"
   ]
  },
  {
   "cell_type": "code",
   "execution_count": null,
   "id": "e7d9ec6e-9a24-4c8e-bce5-4ce8dcf2e236",
   "metadata": {},
   "outputs": [],
   "source": []
  },
  {
   "cell_type": "markdown",
   "id": "b8637ed0-547a-4928-a3a5-e5cb0d6e613d",
   "metadata": {},
   "source": [
    "### SVM model"
   ]
  },
  {
   "cell_type": "code",
   "execution_count": 17,
   "id": "7e38a465-2252-4952-a25d-745ae0e30f7a",
   "metadata": {},
   "outputs": [],
   "source": [
    "# Scale\n",
    "scaler = MinMaxScaler()\n",
    "X_train_scaled = scaler.fit_transform(X_train)\n",
    "X_test_scaled = scaler.fit_transform(X_test)"
   ]
  },
  {
   "cell_type": "code",
   "execution_count": 19,
   "id": "f95cb8f0-be81-4196-80fb-f87906fe2407",
   "metadata": {},
   "outputs": [],
   "source": [
    "# work on Balanced DATA (Random sampling)\n",
    "model = SVC(kernel='rbf', random_state = 2)"
   ]
  },
  {
   "cell_type": "code",
   "execution_count": null,
   "id": "2f330997-bf29-4962-95ff-f368121682a0",
   "metadata": {},
   "outputs": [],
   "source": [
    "model.fit(X_train, y_train)"
   ]
  },
  {
   "cell_type": "code",
   "execution_count": null,
   "id": "b4400f27-5015-4c63-87e3-d78dff8055ba",
   "metadata": {},
   "outputs": [],
   "source": [
    "Y_pred = model.predict(X_test)"
   ]
  },
  {
   "cell_type": "code",
   "execution_count": null,
   "id": "ed62f7af-7c10-4be9-9381-22607c23379f",
   "metadata": {},
   "outputs": [],
   "source": [
    "Y_pred"
   ]
  },
  {
   "cell_type": "code",
   "execution_count": null,
   "id": "1368f991-7517-4b71-8965-73ed781d7485",
   "metadata": {},
   "outputs": [],
   "source": [
    "cm = confusion_matrix(y_test,Y_pred)\n",
    "accuracy = float(cm.diagonal().sum())/len(y_test)\n",
    "print(\"\\nSVM Accuracy: \", accuracy)"
   ]
  },
  {
   "cell_type": "code",
   "execution_count": null,
   "id": "0f6a891e-0a6f-490e-96ed-8c527836b13c",
   "metadata": {},
   "outputs": [],
   "source": [
    "precision, recall, fscore, support = precision_recall_fscore_support(y_test, Y_pred, average='binary')\n",
    "print('Precision = ',round(precision,4),'\\nRecall = ', round(recall,4), '\\nF-Score = ',round(fscore,4))"
   ]
  },
  {
   "cell_type": "code",
   "execution_count": null,
   "id": "517230c9-c1a3-4905-b771-8c0f2c9e4e45",
   "metadata": {},
   "outputs": [],
   "source": [
    "model = model.fit(X_train_scaled, y_train)\n",
    "y_pred_ = model.predict(X_test_scaled)"
   ]
  },
  {
   "cell_type": "code",
   "execution_count": null,
   "id": "1f0424dc-0d97-4e8e-946e-40e4aaa9208e",
   "metadata": {},
   "outputs": [],
   "source": [
    "precision, recall, fscore, support = precision_recall_fscore_support(y_test, y_pred_, average='binary')\n",
    "print('Precision = ',round(precision,4),'\\nRecall = ', round(recall,4), '\\nF-Score = ',round(fscore,4))"
   ]
  },
  {
   "cell_type": "code",
   "execution_count": null,
   "id": "f5ac4df9-bfd6-41f3-89ed-d0d45428afb2",
   "metadata": {},
   "outputs": [],
   "source": [
    "cm = confusion_matrix(y_test,y_pred_)\n",
    "accuracy = float(cm.diagonal().sum())/len(y_test)\n",
    "print(\"\\nSVM Accuracy: \", accuracy)"
   ]
  },
  {
   "cell_type": "code",
   "execution_count": null,
   "id": "e26fb0ce-fcfd-490d-af05-ce02db148033",
   "metadata": {},
   "outputs": [],
   "source": [
    "accuracy = accuracy_score(y_test,y_pred_)\n",
    "conf_mat = confusion_matrix(y_test,y_pred_)\n",
    "print(\"The accuracy of the model is :\", round(accuracy,2)*100,\"%\")\n",
    "print(\"Confusion Matrix:\\n\", conf_mat)"
   ]
  },
  {
   "cell_type": "code",
   "execution_count": null,
   "id": "8ee21b93-820d-4468-803f-cb4e1b0299ab",
   "metadata": {},
   "outputs": [],
   "source": [
    "model.score(X_test,y_test)"
   ]
  },
  {
   "cell_type": "markdown",
   "id": "0aa53b4e-e70c-4575-a01e-e6a8e9267608",
   "metadata": {
    "tags": []
   },
   "source": [
    "### Random Forest model"
   ]
  },
  {
   "cell_type": "code",
   "execution_count": 17,
   "id": "75ce39eb-1732-4ffb-b4ae-c2b5b4b199cf",
   "metadata": {},
   "outputs": [],
   "source": [
    "# work on Balanced DATA (Random sampling)\n",
    "model = RandomForestClassifier(max_depth=3,random_state=2)"
   ]
  },
  {
   "cell_type": "code",
   "execution_count": 19,
   "id": "20d98a30-d206-4449-8f97-e797444c88c3",
   "metadata": {},
   "outputs": [],
   "source": [
    "model = model.fit(X_train,y_train)"
   ]
  },
  {
   "cell_type": "code",
   "execution_count": 20,
   "id": "70140f41-350c-442b-8816-b62a18403d9b",
   "metadata": {},
   "outputs": [
    {
     "data": {
      "text/plain": [
       "0.7459796204182161"
      ]
     },
     "execution_count": 20,
     "metadata": {},
     "output_type": "execute_result"
    }
   ],
   "source": [
    "model.score(X_test,y_test)"
   ]
  },
  {
   "cell_type": "code",
   "execution_count": 21,
   "id": "73135c2d-8baf-4d61-8d61-91059ee3cbf0",
   "metadata": {},
   "outputs": [],
   "source": [
    "Y_pred = model.predict(X_test)"
   ]
  },
  {
   "cell_type": "code",
   "execution_count": 22,
   "id": "c3cd4175-a446-4b81-b748-7748c0b0e629",
   "metadata": {},
   "outputs": [
    {
     "name": "stdout",
     "output_type": "stream",
     "text": [
      "Precision =  0.6946 \n",
      "Recall =  0.8791 \n",
      "F-Score =  0.7761\n"
     ]
    }
   ],
   "source": [
    "precision, recall, fscore, support = precision_recall_fscore_support(y_test, Y_pred, average='binary')\n",
    "print('Precision = ',round(precision,4),'\\nRecall = ', round(recall,4), '\\nF-Score = ',round(fscore,4))"
   ]
  },
  {
   "cell_type": "markdown",
   "id": "534f8261-819a-4be4-befc-19073f4a1772",
   "metadata": {},
   "source": [
    "### Try the model with transformed data "
   ]
  },
  {
   "cell_type": "code",
   "execution_count": 22,
   "id": "6d06ad6f-5333-4cf8-b965-e7843fac1b57",
   "metadata": {},
   "outputs": [
    {
     "name": "stdout",
     "output_type": "stream",
     "text": [
      "0.7630269957019366\n",
      "Precision =  0.7181 \n",
      "Recall =  0.8671 \n",
      "F-Score =  0.7856\n"
     ]
    }
   ],
   "source": [
    "model = RandomForestClassifier(max_depth=5,random_state=42)\n",
    "model = model.fit(X_train,y_train)\n",
    "print(model.score(X_test,y_test))\n",
    "Y_pred = model.predict(X_test)\n",
    "precision, recall, fscore, support = precision_recall_fscore_support(y_test, Y_pred, average='binary')\n",
    "print('Precision = ',round(precision,4),'\\nRecall = ', round(recall,4), '\\nF-Score = ',round(fscore,4))"
   ]
  },
  {
   "cell_type": "code",
   "execution_count": null,
   "id": "cef37544-fa03-4659-ab1e-f00758a13436",
   "metadata": {},
   "outputs": [],
   "source": []
  },
  {
   "cell_type": "markdown",
   "id": "0f12f2ba",
   "metadata": {},
   "source": [
    "# Gradient boosted tree"
   ]
  },
  {
   "cell_type": "code",
   "execution_count": 4,
   "id": "da9e77e2",
   "metadata": {},
   "outputs": [
    {
     "ename": "NameError",
     "evalue": "name 'X_train' is not defined",
     "output_type": "error",
     "traceback": [
      "\u001b[1;31m---------------------------------------------------------------------------\u001b[0m",
      "\u001b[1;31mNameError\u001b[0m                                 Traceback (most recent call last)",
      "\u001b[1;32m~\\AppData\\Local\\Temp/ipykernel_13392/3210098969.py\u001b[0m in \u001b[0;36m<module>\u001b[1;34m\u001b[0m\n\u001b[0;32m      1\u001b[0m \u001b[0mmodel\u001b[0m \u001b[1;33m=\u001b[0m \u001b[0mGradientBoostingClassifier\u001b[0m\u001b[1;33m(\u001b[0m\u001b[1;33m)\u001b[0m\u001b[1;33m\u001b[0m\u001b[1;33m\u001b[0m\u001b[0m\n\u001b[1;32m----> 2\u001b[1;33m \u001b[0mmodel\u001b[0m \u001b[1;33m=\u001b[0m \u001b[0mmodel\u001b[0m\u001b[1;33m.\u001b[0m\u001b[0mfit\u001b[0m\u001b[1;33m(\u001b[0m\u001b[0mX_train\u001b[0m\u001b[1;33m,\u001b[0m\u001b[0my_train\u001b[0m\u001b[1;33m)\u001b[0m\u001b[1;33m\u001b[0m\u001b[1;33m\u001b[0m\u001b[0m\n\u001b[0m\u001b[0;32m      3\u001b[0m \u001b[1;33m\u001b[0m\u001b[0m\n\u001b[0;32m      4\u001b[0m \u001b[0mprint\u001b[0m\u001b[1;33m(\u001b[0m\u001b[0mmodel\u001b[0m\u001b[1;33m.\u001b[0m\u001b[0mscore\u001b[0m\u001b[1;33m(\u001b[0m\u001b[0mX_test\u001b[0m\u001b[1;33m,\u001b[0m\u001b[0my_test\u001b[0m\u001b[1;33m)\u001b[0m\u001b[1;33m)\u001b[0m\u001b[1;33m\u001b[0m\u001b[1;33m\u001b[0m\u001b[0m\n\u001b[0;32m      5\u001b[0m \u001b[1;33m\u001b[0m\u001b[0m\n",
      "\u001b[1;31mNameError\u001b[0m: name 'X_train' is not defined"
     ]
    }
   ],
   "source": [
    "model = GradientBoostingClassifier()\n",
    "model = model.fit(X_train,y_train)\n",
    "\n",
    "print(model.score(X_test,y_test))\n",
    "\n",
    "Y_pred = model.predict(X_test)\n"
   ]
  },
  {
   "cell_type": "code",
   "execution_count": null,
   "id": "ef9a3ad2",
   "metadata": {},
   "outputs": [],
   "source": [
    "precision, recall, fscore, support = precision_recall_fscore_support(y_test, Y_pred, average='binary')\n",
    "print('Precision = ',round(precision,4),'\\nRecall = ', round(recall,4), '\\nF-Score = ',round(fscore,4))\n"
   ]
  },
  {
   "cell_type": "code",
   "execution_count": 67,
   "id": "b22e3354",
   "metadata": {},
   "outputs": [
    {
     "name": "stdout",
     "output_type": "stream",
     "text": [
      "              precision    recall  f1-score   support\n",
      "\n",
      "           0       0.89      0.79      0.83     13660\n",
      "           1       0.81      0.90      0.85     13673\n",
      "\n",
      "    accuracy                           0.84     27333\n",
      "   macro avg       0.85      0.84      0.84     27333\n",
      "weighted avg       0.85      0.84      0.84     27333\n",
      "\n"
     ]
    }
   ],
   "source": [
    "from sklearn.metrics import classification_report\n",
    "print(classification_report(y_test, Y_pred, target_names=['0','1'], zero_division=0))"
   ]
  },
  {
   "cell_type": "code",
   "execution_count": 68,
   "id": "f4e742fa",
   "metadata": {},
   "outputs": [],
   "source": [
    "# Scale MinMaxScaler\n",
    "scaler = MinMaxScaler()\n",
    "X_train_scaled = scaler.fit_transform(X_train)\n",
    "X_test_scaled = scaler.fit_transform(X_test)"
   ]
  },
  {
   "cell_type": "code",
   "execution_count": 69,
   "id": "d64cb47f",
   "metadata": {},
   "outputs": [],
   "source": [
    "model = model.fit(X_train_scaled, y_train)\n",
    "y_pred_ = model.predict(X_test_scaled)"
   ]
  },
  {
   "cell_type": "code",
   "execution_count": 70,
   "id": "e42961aa",
   "metadata": {},
   "outputs": [
    {
     "name": "stdout",
     "output_type": "stream",
     "text": [
      "Precision =  0.8137 \n",
      "Recall =  0.8948 \n",
      "F-Score =  0.8523\n"
     ]
    }
   ],
   "source": [
    "precision, recall, fscore, support = precision_recall_fscore_support(y_test, y_pred_, average='binary')\n",
    "print('Precision = ',round(precision,4),'\\nRecall = ', round(recall,4), '\\nF-Score = ',round(fscore,4))"
   ]
  },
  {
   "cell_type": "code",
   "execution_count": 71,
   "id": "de4cd07b",
   "metadata": {},
   "outputs": [],
   "source": [
    "# standared\n",
    "scaler = StandardScaler()\n",
    "X_train_scaled = scaler.fit_transform(X_train)\n",
    "X_test_scaled = scaler.fit_transform(X_test)"
   ]
  },
  {
   "cell_type": "code",
   "execution_count": 72,
   "id": "f6a83bb7",
   "metadata": {},
   "outputs": [],
   "source": [
    "model = model.fit(X_train_scaled, y_train)\n",
    "y_pred_ = model.predict(X_test_scaled)"
   ]
  },
  {
   "cell_type": "code",
   "execution_count": 73,
   "id": "0148e50e",
   "metadata": {},
   "outputs": [
    {
     "name": "stdout",
     "output_type": "stream",
     "text": [
      "Precision =  0.8068 \n",
      "Recall =  0.8912 \n",
      "F-Score =  0.8469\n"
     ]
    }
   ],
   "source": [
    "precision, recall, fscore, support = precision_recall_fscore_support(y_test, y_pred_, average='binary')\n",
    "print('Precision = ',round(precision,4),'\\nRecall = ', round(recall,4), '\\nF-Score = ',round(fscore,4))"
   ]
  },
  {
   "cell_type": "code",
   "execution_count": null,
   "id": "6ea188c5",
   "metadata": {},
   "outputs": [],
   "source": []
  },
  {
   "cell_type": "markdown",
   "id": "8032860c",
   "metadata": {},
   "source": [
    "## naive bayes"
   ]
  },
  {
   "cell_type": "code",
   "execution_count": 74,
   "id": "69a75a94",
   "metadata": {},
   "outputs": [
    {
     "name": "stdout",
     "output_type": "stream",
     "text": [
      "Precision =  0.8089 \n",
      "Recall =  0.9008 \n",
      "F-Score =  0.8524\n"
     ]
    }
   ],
   "source": [
    "from sklearn.naive_bayes import GaussianNB\n",
    "gnb = GaussianNB()\n",
    "y_pred = gnb.fit(X_train, y_train).predict(X_test)\n",
    "\n",
    "precision, recall, fscore, support = precision_recall_fscore_support(y_test, Y_pred, average='binary')\n",
    "print('Precision = ',round(precision,4),'\\nRecall = ', round(recall,4), '\\nF-Score = ',round(fscore,4))\n"
   ]
  },
  {
   "cell_type": "markdown",
   "id": "487a6a7c-2cba-482e-91fe-1c5163efdf6c",
   "metadata": {},
   "source": [
    "## XGBOOST"
   ]
  },
  {
   "cell_type": "code",
   "execution_count": 33,
   "id": "b3db8fab-0883-4de2-ac0d-0cf9a848ebe2",
   "metadata": {},
   "outputs": [
    {
     "name": "stderr",
     "output_type": "stream",
     "text": [
      "C:\\Users\\elaaf\\anaconda3\\lib\\site-packages\\numpy\\lib\\arraysetops.py:583: FutureWarning: elementwise comparison failed; returning scalar instead, but in the future will perform elementwise comparison\n",
      "  mask |= (ar1 == a)\n"
     ]
    },
    {
     "name": "stdout",
     "output_type": "stream",
     "text": [
      "[16:43:57] WARNING: C:/Users/Administrator/workspace/xgboost-win64_release_1.5.0/src/learner.cc:1115: Starting in XGBoost 1.3.0, the default evaluation metric used with the objective 'binary:logistic' was changed from 'error' to 'logloss'. Explicitly set eval_metric if you'd like to restore the old behavior.\n"
     ]
    }
   ],
   "source": [
    "from xgboost import XGBClassifier\n",
    "\n",
    "df = pd.read_csv(r\"C:\\Users\\elaaf\\Desktop\\SDS\\extra\\data_undersampled_scaled_tranformed_v1.csv\",index_col= 0)\n",
    "X_train, X_test, y_train, y_test = train_test_split(df.drop(columns=['label']), df['label'], \n",
    "                                                    test_size = 0.33, random_state=42, stratify=df['label'])\n",
    "\n",
    "\n",
    "#Create an object of the classifier.\n",
    "clf = XGBClassifier(use_label_encoder=False ).fit(X_train, y_train)\n",
    "\n"
   ]
  },
  {
   "cell_type": "code",
   "execution_count": 34,
   "id": "20916000-95dd-40ea-bc90-5b31dc974a37",
   "metadata": {},
   "outputs": [
    {
     "name": "stdout",
     "output_type": "stream",
     "text": [
      "Model Accuracy: 98.99\n"
     ]
    }
   ],
   "source": [
    "y_pred = clf.predict(X_test)\n",
    "accuracy = accuracy_score(y_test, y_pred)\n",
    "print(f'Model Accuracy: {round(accuracy, 4)*100}')"
   ]
  },
  {
   "cell_type": "code",
   "execution_count": 35,
   "id": "f6cfb425-0300-486b-8123-9fd5403c4807",
   "metadata": {},
   "outputs": [
    {
     "name": "stdout",
     "output_type": "stream",
     "text": [
      "Precision =  0.868 \n",
      "Recall =  0.3618 \n",
      "F-Score =  0.5108\n"
     ]
    }
   ],
   "source": [
    "precision, recall, fscore, support = precision_recall_fscore_support(y_test, y_pred, average='binary')\n",
    "print('Precision = ',round(precision,4),'\\nRecall = ', round(recall,4), '\\nF-Score = ',round(fscore,4))\n"
   ]
  },
  {
   "cell_type": "code",
   "execution_count": 36,
   "id": "d6cfe8bf-e265-4b1b-a74d-e65c0af818b6",
   "metadata": {},
   "outputs": [
    {
     "data": {
      "image/png": "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\n",
      "text/plain": [
       "<Figure size 432x288 with 2 Axes>"
      ]
     },
     "metadata": {
      "needs_background": "light"
     },
     "output_type": "display_data"
    }
   ],
   "source": [
    "from sklearn.metrics import plot_confusion_matrix\n",
    "plot_confusion_matrix(clf, X_test, y_test);"
   ]
  },
  {
   "cell_type": "markdown",
   "id": "383e9ba4-7e63-4370-af49-98fd98013f33",
   "metadata": {},
   "source": [
    "# All Models"
   ]
  },
  {
   "cell_type": "code",
   "execution_count": null,
   "id": "33bc5bfc-f09d-46b9-bfaa-969082a7c3b9",
   "metadata": {},
   "outputs": [],
   "source": [
    "# Create Function to fit on All models and Calculat it's score, F1, Prec, Recall ... etc. "
   ]
  },
  {
   "cell_type": "code",
   "execution_count": null,
   "id": "da96ede7",
   "metadata": {},
   "outputs": [],
   "source": []
  },
  {
   "cell_type": "markdown",
   "id": "8346603c",
   "metadata": {},
   "source": [
    "# Test with new Data"
   ]
  },
  {
   "cell_type": "code",
   "execution_count": 37,
   "id": "cc35d9d3",
   "metadata": {},
   "outputs": [],
   "source": [
    "df_test = pd.read_csv(\"../Data/BMT_balanced_encoded_address_RobustScaler_Test.csv\",index_col= 0)"
   ]
  },
  {
   "cell_type": "code",
   "execution_count": 38,
   "id": "6f522812",
   "metadata": {},
   "outputs": [
    {
     "data": {
      "text/html": [
       "<div>\n",
       "<style scoped>\n",
       "    .dataframe tbody tr th:only-of-type {\n",
       "        vertical-align: middle;\n",
       "    }\n",
       "\n",
       "    .dataframe tbody tr th {\n",
       "        vertical-align: top;\n",
       "    }\n",
       "\n",
       "    .dataframe thead th {\n",
       "        text-align: right;\n",
       "    }\n",
       "</style>\n",
       "<table border=\"1\" class=\"dataframe\">\n",
       "  <thead>\n",
       "    <tr style=\"text-align: right;\">\n",
       "      <th></th>\n",
       "      <th>address</th>\n",
       "      <th>year</th>\n",
       "      <th>day</th>\n",
       "      <th>label</th>\n",
       "      <th>s_length</th>\n",
       "      <th>s_weight</th>\n",
       "      <th>s_counted</th>\n",
       "      <th>s_income</th>\n",
       "      <th>s_looped</th>\n",
       "      <th>s_neighbors</th>\n",
       "    </tr>\n",
       "  </thead>\n",
       "  <tbody>\n",
       "    <tr>\n",
       "      <th>0</th>\n",
       "      <td>0</td>\n",
       "      <td>2017</td>\n",
       "      <td>11</td>\n",
       "      <td>1</td>\n",
       "      <td>0.113636</td>\n",
       "      <td>-0.317644</td>\n",
       "      <td>0.000000</td>\n",
       "      <td>-0.139136</td>\n",
       "      <td>-0.214479</td>\n",
       "      <td>-0.005927</td>\n",
       "    </tr>\n",
       "    <tr>\n",
       "      <th>1</th>\n",
       "      <td>5</td>\n",
       "      <td>2016</td>\n",
       "      <td>132</td>\n",
       "      <td>1</td>\n",
       "      <td>0.409091</td>\n",
       "      <td>-0.326033</td>\n",
       "      <td>0.000000</td>\n",
       "      <td>-0.139255</td>\n",
       "      <td>-0.214479</td>\n",
       "      <td>-0.030102</td>\n",
       "    </tr>\n",
       "    <tr>\n",
       "      <th>2</th>\n",
       "      <td>6</td>\n",
       "      <td>2016</td>\n",
       "      <td>246</td>\n",
       "      <td>1</td>\n",
       "      <td>-0.090909</td>\n",
       "      <td>0.710751</td>\n",
       "      <td>0.000000</td>\n",
       "      <td>0.098840</td>\n",
       "      <td>-0.214479</td>\n",
       "      <td>-0.005927</td>\n",
       "    </tr>\n",
       "    <tr>\n",
       "      <th>3</th>\n",
       "      <td>8</td>\n",
       "      <td>2016</td>\n",
       "      <td>322</td>\n",
       "      <td>1</td>\n",
       "      <td>0.727273</td>\n",
       "      <td>-0.322235</td>\n",
       "      <td>0.000000</td>\n",
       "      <td>-0.207826</td>\n",
       "      <td>-0.214479</td>\n",
       "      <td>-0.005927</td>\n",
       "    </tr>\n",
       "    <tr>\n",
       "      <th>4</th>\n",
       "      <td>9</td>\n",
       "      <td>2016</td>\n",
       "      <td>238</td>\n",
       "      <td>1</td>\n",
       "      <td>1.545455</td>\n",
       "      <td>-0.250739</td>\n",
       "      <td>12.297297</td>\n",
       "      <td>0.098840</td>\n",
       "      <td>-0.214479</td>\n",
       "      <td>-0.030102</td>\n",
       "    </tr>\n",
       "    <tr>\n",
       "      <th>...</th>\n",
       "      <td>...</td>\n",
       "      <td>...</td>\n",
       "      <td>...</td>\n",
       "      <td>...</td>\n",
       "      <td>...</td>\n",
       "      <td>...</td>\n",
       "      <td>...</td>\n",
       "      <td>...</td>\n",
       "      <td>...</td>\n",
       "      <td>...</td>\n",
       "    </tr>\n",
       "    <tr>\n",
       "      <th>2724847</th>\n",
       "      <td>5214</td>\n",
       "      <td>2018</td>\n",
       "      <td>139</td>\n",
       "      <td>0</td>\n",
       "      <td>-0.090909</td>\n",
       "      <td>0.710751</td>\n",
       "      <td>0.000000</td>\n",
       "      <td>-0.005709</td>\n",
       "      <td>-0.214479</td>\n",
       "      <td>-0.030102</td>\n",
       "    </tr>\n",
       "    <tr>\n",
       "      <th>1994617</th>\n",
       "      <td>20804</td>\n",
       "      <td>2016</td>\n",
       "      <td>138</td>\n",
       "      <td>0</td>\n",
       "      <td>-0.068182</td>\n",
       "      <td>-0.067027</td>\n",
       "      <td>0.000000</td>\n",
       "      <td>0.848793</td>\n",
       "      <td>-0.214479</td>\n",
       "      <td>-0.005927</td>\n",
       "    </tr>\n",
       "    <tr>\n",
       "      <th>635147</th>\n",
       "      <td>21980</td>\n",
       "      <td>2012</td>\n",
       "      <td>239</td>\n",
       "      <td>0</td>\n",
       "      <td>1.454545</td>\n",
       "      <td>-0.196656</td>\n",
       "      <td>35.783784</td>\n",
       "      <td>-0.196867</td>\n",
       "      <td>1.481470</td>\n",
       "      <td>-0.030102</td>\n",
       "    </tr>\n",
       "    <tr>\n",
       "      <th>350738</th>\n",
       "      <td>46995</td>\n",
       "      <td>2011</td>\n",
       "      <td>320</td>\n",
       "      <td>0</td>\n",
       "      <td>-0.045455</td>\n",
       "      <td>-0.196656</td>\n",
       "      <td>0.000000</td>\n",
       "      <td>12.250906</td>\n",
       "      <td>-0.214479</td>\n",
       "      <td>-0.005927</td>\n",
       "    </tr>\n",
       "    <tr>\n",
       "      <th>2643493</th>\n",
       "      <td>36051</td>\n",
       "      <td>2018</td>\n",
       "      <td>57</td>\n",
       "      <td>0</td>\n",
       "      <td>1.545455</td>\n",
       "      <td>0.250331</td>\n",
       "      <td>34.486486</td>\n",
       "      <td>0.518251</td>\n",
       "      <td>-0.214479</td>\n",
       "      <td>-0.005927</td>\n",
       "    </tr>\n",
       "  </tbody>\n",
       "</table>\n",
       "<p>82826 rows × 10 columns</p>\n",
       "</div>"
      ],
      "text/plain": [
       "         address  year  day  label  s_length  s_weight  s_counted   s_income  \\\n",
       "0              0  2017   11      1  0.113636 -0.317644   0.000000  -0.139136   \n",
       "1              5  2016  132      1  0.409091 -0.326033   0.000000  -0.139255   \n",
       "2              6  2016  246      1 -0.090909  0.710751   0.000000   0.098840   \n",
       "3              8  2016  322      1  0.727273 -0.322235   0.000000  -0.207826   \n",
       "4              9  2016  238      1  1.545455 -0.250739  12.297297   0.098840   \n",
       "...          ...   ...  ...    ...       ...       ...        ...        ...   \n",
       "2724847     5214  2018  139      0 -0.090909  0.710751   0.000000  -0.005709   \n",
       "1994617    20804  2016  138      0 -0.068182 -0.067027   0.000000   0.848793   \n",
       "635147     21980  2012  239      0  1.454545 -0.196656  35.783784  -0.196867   \n",
       "350738     46995  2011  320      0 -0.045455 -0.196656   0.000000  12.250906   \n",
       "2643493    36051  2018   57      0  1.545455  0.250331  34.486486   0.518251   \n",
       "\n",
       "         s_looped  s_neighbors  \n",
       "0       -0.214479    -0.005927  \n",
       "1       -0.214479    -0.030102  \n",
       "2       -0.214479    -0.005927  \n",
       "3       -0.214479    -0.005927  \n",
       "4       -0.214479    -0.030102  \n",
       "...           ...          ...  \n",
       "2724847 -0.214479    -0.030102  \n",
       "1994617 -0.214479    -0.005927  \n",
       "635147   1.481470    -0.030102  \n",
       "350738  -0.214479    -0.005927  \n",
       "2643493 -0.214479    -0.005927  \n",
       "\n",
       "[82826 rows x 10 columns]"
      ]
     },
     "execution_count": 38,
     "metadata": {},
     "output_type": "execute_result"
    }
   ],
   "source": [
    "df_test"
   ]
  },
  {
   "cell_type": "code",
   "execution_count": 40,
   "id": "90658d27",
   "metadata": {},
   "outputs": [],
   "source": [
    "X_train, X_test, y_train, y_test = train_test_split(df_test.drop(columns=['label','address']), df_test['label'], \n",
    "                                                    test_size = 0.25, random_state=42)"
   ]
  },
  {
   "cell_type": "code",
   "execution_count": null,
   "id": "28fc9cf2",
   "metadata": {},
   "outputs": [],
   "source": []
  },
  {
   "cell_type": "markdown",
   "id": "c59728f5",
   "metadata": {},
   "source": [
    "# Ensambling "
   ]
  },
  {
   "cell_type": "code",
   "execution_count": 9,
   "id": "83b1cf68",
   "metadata": {},
   "outputs": [],
   "source": [
    "GBC_model = GradientBoostingClassifier()\n",
    "NB_model = GaussianNB()\n",
    "et_model = ensemble.ExtraTreesClassifier(n_estimators=100, random_state=1)\n",
    "\n",
    "models = [\"et_model\",\"GBC_model\",\"NB_model\"]"
   ]
  },
  {
   "cell_type": "code",
   "execution_count": 10,
   "id": "f5584926",
   "metadata": {},
   "outputs": [],
   "source": [
    "# change the path\n",
    "for model_name in models:\n",
    "    \n",
    "    curr_model = eval(model_name)\n",
    "    \n",
    "    curr_model.fit(X_train, y_train)\n",
    "    \n",
    "    with open(f\"/Users/muntaha/Documents/Project3V2/models/{model_name}.pickle\", \"wb\") as pfile:\n",
    "        pickle.dump(curr_model, pfile)"
   ]
  },
  {
   "cell_type": "markdown",
   "id": "d395490f",
   "metadata": {},
   "source": [
    "### Test read from Pickels "
   ]
  },
  {
   "cell_type": "code",
   "execution_count": 12,
   "id": "72cad2e1",
   "metadata": {},
   "outputs": [],
   "source": [
    "model_names = [\"et_model\",\"GBC_model\",\"NB_model\"]\n",
    "\n",
    "for model_name in model_names:\n",
    "    with open(f\"/Users/muntaha/Documents/Project3V2/models/{model_name}.pickle\", \"rb\") as pfile:\n",
    "        exec(f\"{model_name} = pickle.load(pfile)\")\n",
    "\n",
    "model_vars = [eval(n) for n in model_names]\n",
    "model_list = list(zip(model_names, model_vars))"
   ]
  },
  {
   "cell_type": "code",
   "execution_count": 13,
   "id": "67cbfa62",
   "metadata": {},
   "outputs": [
    {
     "data": {
      "text/plain": [
       "[('et_model', ExtraTreesClassifier(random_state=1)),\n",
       " ('GBC_model', GradientBoostingClassifier()),\n",
       " ('NB_model', GaussianNB())]"
      ]
     },
     "execution_count": 13,
     "metadata": {},
     "output_type": "execute_result"
    }
   ],
   "source": [
    "model_list"
   ]
  },
  {
   "cell_type": "code",
   "execution_count": 14,
   "id": "72eaeeb3",
   "metadata": {},
   "outputs": [
    {
     "name": "stdout",
     "output_type": "stream",
     "text": [
      "et_model score: 0.8877547287162039\n",
      "GBC_model score: 0.8439615117257527\n",
      "NB_model score: 0.7007646434712619\n"
     ]
    }
   ],
   "source": [
    "# each model performance -> score\\\n",
    "\n",
    "for model_name in model_names:\n",
    "    curr_model = eval(model_name)\n",
    "    print(f'{model_name} score: {curr_model.score(X_test, y_test)}')"
   ]
  },
  {
   "cell_type": "code",
   "execution_count": 15,
   "id": "531ef0be",
   "metadata": {},
   "outputs": [
    {
     "data": {
      "text/plain": [
       "VotingClassifier(estimators=[('et_model', ExtraTreesClassifier(random_state=1)),\n",
       "                             ('GBC_model', GradientBoostingClassifier()),\n",
       "                             ('NB_model', GaussianNB())],\n",
       "                 n_jobs=-1)"
      ]
     },
     "execution_count": 15,
     "metadata": {},
     "output_type": "execute_result"
    }
   ],
   "source": [
    "# create voting classifier\n",
    "voting_classifer = VotingClassifier(estimators = model_list,\n",
    "                                    voting='hard', #<-- hard voting\n",
    "                                    n_jobs=-1)\n",
    "voting_classifer.fit(X_train, y_train)"
   ]
  },
  {
   "cell_type": "code",
   "execution_count": 16,
   "id": "08ae2a80",
   "metadata": {},
   "outputs": [
    {
     "data": {
      "text/plain": [
       "0.8524128343028573"
      ]
     },
     "execution_count": 16,
     "metadata": {},
     "output_type": "execute_result"
    }
   ],
   "source": [
    "y_pred = voting_classifer.predict(X_test)\n",
    "accuracy_score(y_test, y_pred)"
   ]
  },
  {
   "cell_type": "code",
   "execution_count": 17,
   "id": "37f00776",
   "metadata": {},
   "outputs": [
    {
     "name": "stdout",
     "output_type": "stream",
     "text": [
      "Precision =  0.8112 \n",
      "Recall =  0.9188 \n",
      "F-Score =  0.8617\n"
     ]
    },
    {
     "data": {
      "image/png": "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\n",
      "text/plain": [
       "<Figure size 432x288 with 2 Axes>"
      ]
     },
     "metadata": {
      "needs_background": "light"
     },
     "output_type": "display_data"
    }
   ],
   "source": [
    "plot_confusion_matrix(voting_classifer, X_test, y_test);\n",
    "\n",
    "precision, recall, fscore, support = precision_recall_fscore_support(y_test, y_pred, average='binary')\n",
    "print('Precision = ',round(precision,4),'\\nRecall = ', round(recall,4), '\\nF-Score = ',round(fscore,4))"
   ]
  },
  {
   "cell_type": "code",
   "execution_count": null,
   "id": "7211f816",
   "metadata": {},
   "outputs": [],
   "source": [
    "# create voting classifier\n",
    "voting_classifer = VotingClassifier(estimators=model_list,\n",
    "                                    voting='soft', #<-- soft voting\n",
    "                                    n_jobs=-1)\n",
    "voting_classifer.fit(X_train, y_train)"
   ]
  },
  {
   "cell_type": "code",
   "execution_count": null,
   "id": "f381d32a",
   "metadata": {},
   "outputs": [],
   "source": [
    "y_pred = voting_classifer.predict(X_test)\n",
    "accuracy_score(y_test, y_pred)"
   ]
  },
  {
   "cell_type": "code",
   "execution_count": null,
   "id": "616a2049",
   "metadata": {},
   "outputs": [],
   "source": [
    "plot_confusion_matrix(voting_classifer, X_test, y_test);\n",
    "\n",
    "precision, recall, fscore, support = precision_recall_fscore_support(y_test, y_pred, average='binary')\n",
    "print('Precision = ',round(precision,4),'\\nRecall = ', round(recall,4), '\\nF-Score = ',round(fscore,4))"
   ]
  },
  {
   "cell_type": "code",
   "execution_count": null,
   "id": "1ad59722",
   "metadata": {},
   "outputs": [],
   "source": [
    "# create voting classifier\n",
    "weights = [20,6,4]\n",
    "voting_model = VotingClassifier(estimators=model_list,\n",
    "                                    voting='soft', \n",
    "                                    weights = weights,  #include weights\n",
    "                                    n_jobs=-1)\n",
    "voting_model.fit(X_train, y_train)"
   ]
  },
  {
   "cell_type": "code",
   "execution_count": null,
   "id": "a3f6e045",
   "metadata": {},
   "outputs": [],
   "source": [
    "# Get accuracy \n",
    "y_pred = voting_model.predict(X_test)\n",
    "accuracy_score(y_test, y_pred)"
   ]
  },
  {
   "cell_type": "code",
   "execution_count": null,
   "id": "bbe43616",
   "metadata": {},
   "outputs": [],
   "source": [
    "plot_confusion_matrix(voting_model, X_test, y_test);\n",
    "\n",
    "precision, recall, fscore, support = precision_recall_fscore_support(y_test, y_pred, average='binary')\n",
    "print('Precision = ',round(precision,4),'\\nRecall = ', round(recall,4), '\\nF-Score = ',round(fscore,4))"
   ]
  },
  {
   "cell_type": "code",
   "execution_count": null,
   "id": "63941067",
   "metadata": {},
   "outputs": [],
   "source": [
    "stacked = StackingClassifier(\n",
    "    classifiers=model_vars, meta_classifier=LogisticRegression(), use_probas=False)"
   ]
  },
  {
   "cell_type": "code",
   "execution_count": null,
   "id": "dd2d7057",
   "metadata": {},
   "outputs": [],
   "source": [
    "stacked.fit(X_train, y_train)"
   ]
  },
  {
   "cell_type": "code",
   "execution_count": null,
   "id": "d0ec537d",
   "metadata": {},
   "outputs": [],
   "source": [
    "y_pred = stacked.predict(X_test)\n",
    "accuracy_score(y_test, y_pred)"
   ]
  },
  {
   "cell_type": "code",
   "execution_count": null,
   "id": "1423450e",
   "metadata": {
    "scrolled": false
   },
   "outputs": [],
   "source": [
    "plot_confusion_matrix(stacked, X_test, y_test);\n",
    "\n",
    "precision, recall, fscore, support = precision_recall_fscore_support(y_test, y_pred, average='binary')\n",
    "print('Precision = ',round(precision,4),'\\nRecall = ', round(recall,4), '\\nF-Score = ',round(fscore,4))"
   ]
  },
  {
   "cell_type": "code",
   "execution_count": null,
   "id": "681807f8",
   "metadata": {},
   "outputs": [],
   "source": []
  },
  {
   "cell_type": "code",
   "execution_count": null,
   "id": "ca7eb3d2",
   "metadata": {},
   "outputs": [],
   "source": []
  },
  {
   "cell_type": "code",
   "execution_count": null,
   "id": "2dbe8c0e",
   "metadata": {},
   "outputs": [],
   "source": []
  }
 ],
 "metadata": {
  "kernelspec": {
   "display_name": "Python 3",
   "language": "python",
   "name": "python3"
  },
  "language_info": {
   "codemirror_mode": {
    "name": "ipython",
    "version": 3
   },
   "file_extension": ".py",
   "mimetype": "text/x-python",
   "name": "python",
   "nbconvert_exporter": "python",
   "pygments_lexer": "ipython3",
   "version": "3.8.8"
  }
 },
 "nbformat": 4,
 "nbformat_minor": 5
}
