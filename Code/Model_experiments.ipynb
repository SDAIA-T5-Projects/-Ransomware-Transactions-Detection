{
 "cells": [
  {
   "cell_type": "code",
   "execution_count": null,
   "id": "0cd4db15-e487-4fbd-8db6-adae52bbc791",
   "metadata": {},
   "outputs": [],
   "source": [
    "import pandas as pd\n",
    "import numpy as np\n",
    "import matplotlib.pyplot as plt\n",
    "import seaborn as sns\n",
    "\n",
    "from sklearn.linear_model import LogisticRegression, SGDClassifier\n",
    "from sklearn.model_selection import train_test_split\n",
    "from sklearn.metrics import precision_score, recall_score, accuracy_score, roc_auc_score, confusion_matrix, precision_recall_fscore_support\n",
    "from sklearn.metrics import confusion_matrix\n",
    "from sklearn.preprocessing import StandardScaler, MinMaxScaler\n",
    "from sklearn.svm import SVC\n",
    "from sklearn.neighbors import KNeighborsClassifier\n",
    "from sklearn.tree import DecisionTreeClassifier\n",
    "from sklearn.ensemble import RandomForestClassifier\n",
    "from sklearn import preprocessing, neighbors\n"
   ]
  },
  {
   "cell_type": "code",
   "execution_count": null,
   "id": "4075c769-cbc5-4d1a-858c-7f0963decd18",
   "metadata": {},
   "outputs": [],
   "source": []
  },
  {
   "cell_type": "code",
   "execution_count": 32,
   "id": "2bfd6d2f-1a01-4382-92b1-2e3b39b177eb",
   "metadata": {},
   "outputs": [],
   "source": [
    "X_train, X_test, y_train, y_test = train_test_split(df_new.drop(columns=['label','address']), df_new['label'], \n",
    "                                                    test_size = 0.25, random_state=42)\n"
   ]
  },
  {
   "cell_type": "code",
   "execution_count": 33,
   "id": "1f6bface-ba47-4508-91d5-40a192d3e3a0",
   "metadata": {},
   "outputs": [],
   "source": [
    "classifier = SGDClassifier(loss='log', max_iter=100) \n",
    "model = classifier.fit(X_train, y_train)\n",
    "y_pred = model.predict(X_test)"
   ]
  },
  {
   "cell_type": "code",
   "execution_count": 34,
   "id": "9e519e6a-2f9c-4762-ad5d-e6fc1f0bbf51",
   "metadata": {},
   "outputs": [
    {
     "name": "stdout",
     "output_type": "stream",
     "text": [
      "The accuracy of the model is : 50.0 %\n",
      "Confusion Matrix:\n",
      " [[10339     0]\n",
      " [10368     0]]\n"
     ]
    }
   ],
   "source": [
    "accuracy = accuracy_score(y_test,y_pred)\n",
    "conf_mat = confusion_matrix(y_test,y_pred)\n",
    "print(\"The accuracy of the model is :\", round(accuracy,2)*100,\"%\")\n",
    "print(\"Confusion Matrix:\\n\", conf_mat)"
   ]
  },
  {
   "cell_type": "code",
   "execution_count": 35,
   "id": "0825f86b-9337-49ad-9487-4e5f5649e200",
   "metadata": {},
   "outputs": [
    {
     "name": "stdout",
     "output_type": "stream",
     "text": [
      "Precision =  0.0 \n",
      "Recall =  0.0 \n",
      "F-Score =  0.0\n"
     ]
    },
    {
     "name": "stderr",
     "output_type": "stream",
     "text": [
      "C:\\Users\\elaaf\\anaconda3\\lib\\site-packages\\sklearn\\metrics\\_classification.py:1248: UndefinedMetricWarning: Precision and F-score are ill-defined and being set to 0.0 due to no predicted samples. Use `zero_division` parameter to control this behavior.\n",
      "  _warn_prf(average, modifier, msg_start, len(result))\n"
     ]
    }
   ],
   "source": [
    "precision, recall, fscore, support = precision_recall_fscore_support(y_test, y_pred, average='binary')\n",
    "print('Precision = ',round(precision,4),'\\nRecall = ', round(recall,4), '\\nF-Score = ',round(fscore,4))"
   ]
  },
  {
   "cell_type": "code",
   "execution_count": 36,
   "id": "117f0b75-295c-451f-b595-50791b927bb6",
   "metadata": {},
   "outputs": [],
   "source": [
    "scaler = StandardScaler()\n",
    "X_train_scaled = scaler.fit_transform(X_train)\n",
    "X_test_scaled = scaler.fit_transform(X_test)\n"
   ]
  },
  {
   "cell_type": "code",
   "execution_count": 37,
   "id": "f0ca0313-a96d-420e-b3ac-81b314a94904",
   "metadata": {
    "jupyter": {
     "source_hidden": true
    },
    "tags": []
   },
   "outputs": [],
   "source": [
    "classifier = SGDClassifier(loss='log', max_iter=100) \n",
    "model = classifier.fit(X_train_scaled, y_train)\n",
    "y_pred = model.predict(X_test_scaled)"
   ]
  },
  {
   "cell_type": "code",
   "execution_count": 38,
   "id": "1826b9bd-65f1-4d70-9e4f-24cea16ce7a2",
   "metadata": {},
   "outputs": [
    {
     "name": "stdout",
     "output_type": "stream",
     "text": [
      "The accuracy of the model is : 62.0 %\n",
      "Confusion Matrix:\n",
      " [[4818 5521]\n",
      " [2381 7987]]\n"
     ]
    }
   ],
   "source": [
    "accuracy = accuracy_score(y_test,y_pred)\n",
    "conf_mat = confusion_matrix(y_test,y_pred)\n",
    "print(\"The accuracy of the model is :\", round(accuracy,2)*100,\"%\")\n",
    "print(\"Confusion Matrix:\\n\", conf_mat)"
   ]
  },
  {
   "cell_type": "code",
   "execution_count": 39,
   "id": "5f988fdf-a5bd-4f8d-85b5-9f9510bc7067",
   "metadata": {},
   "outputs": [
    {
     "name": "stdout",
     "output_type": "stream",
     "text": [
      "Precision =  0.5913 \n",
      "Recall =  0.7704 \n",
      "F-Score =  0.669\n"
     ]
    }
   ],
   "source": [
    "precision, recall, fscore, support = precision_recall_fscore_support(y_test, y_pred, average='binary')\n",
    "print('Precision = ',round(precision,4),'\\nRecall = ', round(recall,4), '\\nF-Score = ',round(fscore,4))"
   ]
  },
  {
   "cell_type": "code",
   "execution_count": 40,
   "id": "d4eca8bc-4ec8-4a1b-8f7d-05b379d1d484",
   "metadata": {},
   "outputs": [],
   "source": [
    "scaler = MinMaxScaler()\n",
    "X_train_scaled = scaler.fit_transform(X_train)\n",
    "X_test_scaled = scaler.fit_transform(X_test)\n"
   ]
  },
  {
   "cell_type": "code",
   "execution_count": 41,
   "id": "6274ea68-49e2-4582-aee1-81734929db8c",
   "metadata": {},
   "outputs": [],
   "source": [
    "classifier = SGDClassifier(loss='log', max_iter=100) \n",
    "model = classifier.fit(X_train_scaled, y_train)\n",
    "y_pred = model.predict(X_test_scaled)"
   ]
  },
  {
   "cell_type": "code",
   "execution_count": 42,
   "id": "ccd092d5-ca86-4dd7-b3de-ee6e529109a2",
   "metadata": {},
   "outputs": [
    {
     "name": "stdout",
     "output_type": "stream",
     "text": [
      "The accuracy of the model is : 59.0 %\n",
      "Confusion Matrix:\n",
      " [[3712 6627]\n",
      " [1773 8595]]\n"
     ]
    }
   ],
   "source": [
    "accuracy = accuracy_score(y_test,y_pred)\n",
    "conf_mat = confusion_matrix(y_test,y_pred)\n",
    "print(\"The accuracy of the model is :\", round(accuracy,2)*100,\"%\")\n",
    "print(\"Confusion Matrix:\\n\", conf_mat)"
   ]
  },
  {
   "cell_type": "code",
   "execution_count": 43,
   "id": "e567ae58-b8a8-4745-afdc-7913c0f4748a",
   "metadata": {},
   "outputs": [
    {
     "name": "stdout",
     "output_type": "stream",
     "text": [
      "Precision =  0.5646 \n",
      "Recall =  0.829 \n",
      "F-Score =  0.6717\n"
     ]
    }
   ],
   "source": [
    "precision, recall, fscore, support = precision_recall_fscore_support(y_test, y_pred, average='binary')\n",
    "print('Precision = ',round(precision,4),'\\nRecall = ', round(recall,4), '\\nF-Score = ',round(fscore,4))"
   ]
  },
  {
   "cell_type": "code",
   "execution_count": null,
   "id": "e7d9ec6e-9a24-4c8e-bce5-4ce8dcf2e236",
   "metadata": {},
   "outputs": [],
   "source": []
  },
  {
   "cell_type": "markdown",
   "id": "b8637ed0-547a-4928-a3a5-e5cb0d6e613d",
   "metadata": {},
   "source": [
    "### SVM model"
   ]
  },
  {
   "cell_type": "code",
   "execution_count": 4,
   "id": "7e38a465-2252-4952-a25d-745ae0e30f7a",
   "metadata": {},
   "outputs": [
    {
     "ename": "NameError",
     "evalue": "name 'X_train' is not defined",
     "output_type": "error",
     "traceback": [
      "\u001b[1;31m---------------------------------------------------------------------------\u001b[0m",
      "\u001b[1;31mNameError\u001b[0m                                 Traceback (most recent call last)",
      "\u001b[1;32m~\\AppData\\Local\\Temp/ipykernel_23136/2155922632.py\u001b[0m in \u001b[0;36m<module>\u001b[1;34m\u001b[0m\n\u001b[0;32m      1\u001b[0m \u001b[1;31m# Scale\u001b[0m\u001b[1;33m\u001b[0m\u001b[1;33m\u001b[0m\u001b[1;33m\u001b[0m\u001b[0m\n\u001b[0;32m      2\u001b[0m \u001b[0mscaler\u001b[0m \u001b[1;33m=\u001b[0m \u001b[0mMinMaxScaler\u001b[0m\u001b[1;33m(\u001b[0m\u001b[1;33m)\u001b[0m\u001b[1;33m\u001b[0m\u001b[1;33m\u001b[0m\u001b[0m\n\u001b[1;32m----> 3\u001b[1;33m \u001b[0mX_train_scaled\u001b[0m \u001b[1;33m=\u001b[0m \u001b[0mscaler\u001b[0m\u001b[1;33m.\u001b[0m\u001b[0mfit_transform\u001b[0m\u001b[1;33m(\u001b[0m\u001b[0mX_train\u001b[0m\u001b[1;33m)\u001b[0m\u001b[1;33m\u001b[0m\u001b[1;33m\u001b[0m\u001b[0m\n\u001b[0m\u001b[0;32m      4\u001b[0m \u001b[0mX_test_scaled\u001b[0m \u001b[1;33m=\u001b[0m \u001b[0mscaler\u001b[0m\u001b[1;33m.\u001b[0m\u001b[0mfit_transform\u001b[0m\u001b[1;33m(\u001b[0m\u001b[0mX_test\u001b[0m\u001b[1;33m)\u001b[0m\u001b[1;33m\u001b[0m\u001b[1;33m\u001b[0m\u001b[0m\n",
      "\u001b[1;31mNameError\u001b[0m: name 'X_train' is not defined"
     ]
    }
   ],
   "source": [
    "# Scale\n",
    "scaler = MinMaxScaler()\n",
    "X_train_scaled = scaler.fit_transform(X_train)\n",
    "X_test_scaled = scaler.fit_transform(X_test)"
   ]
  },
  {
   "cell_type": "code",
   "execution_count": 79,
   "id": "f95cb8f0-be81-4196-80fb-f87906fe2407",
   "metadata": {},
   "outputs": [],
   "source": [
    "# work on Balanced DATA (Random sampling)\n",
    "model = SVC(kernel='rbf', random_state = 2)"
   ]
  },
  {
   "cell_type": "code",
   "execution_count": null,
   "id": "2f330997-bf29-4962-95ff-f368121682a0",
   "metadata": {},
   "outputs": [],
   "source": [
    "model.fit(X_train, y_train)"
   ]
  },
  {
   "cell_type": "code",
   "execution_count": null,
   "id": "b4400f27-5015-4c63-87e3-d78dff8055ba",
   "metadata": {},
   "outputs": [],
   "source": [
    "Y_pred = model.predict(X_test)"
   ]
  },
  {
   "cell_type": "code",
   "execution_count": null,
   "id": "ed62f7af-7c10-4be9-9381-22607c23379f",
   "metadata": {},
   "outputs": [],
   "source": [
    "Y_pred"
   ]
  },
  {
   "cell_type": "code",
   "execution_count": null,
   "id": "1368f991-7517-4b71-8965-73ed781d7485",
   "metadata": {},
   "outputs": [],
   "source": [
    "cm = confusion_matrix(y_test,Y_pred)\n",
    "accuracy = float(cm.diagonal().sum())/len(y_test)\n",
    "print(\"\\nSVM Accuracy: \", accuracy)"
   ]
  },
  {
   "cell_type": "code",
   "execution_count": null,
   "id": "0f6a891e-0a6f-490e-96ed-8c527836b13c",
   "metadata": {},
   "outputs": [],
   "source": [
    "precision, recall, fscore, support = precision_recall_fscore_support(y_test, Y_pred, average='binary')\n",
    "print('Precision = ',round(precision,4),'\\nRecall = ', round(recall,4), '\\nF-Score = ',round(fscore,4))"
   ]
  },
  {
   "cell_type": "code",
   "execution_count": null,
   "id": "517230c9-c1a3-4905-b771-8c0f2c9e4e45",
   "metadata": {},
   "outputs": [],
   "source": [
    "model = model.fit(X_train_scaled, y_train)\n",
    "y_pred_ = model.predict(X_test_scaled)"
   ]
  },
  {
   "cell_type": "code",
   "execution_count": null,
   "id": "1f0424dc-0d97-4e8e-946e-40e4aaa9208e",
   "metadata": {},
   "outputs": [],
   "source": [
    "precision, recall, fscore, support = precision_recall_fscore_support(y_test, y_pred_, average='binary')\n",
    "print('Precision = ',round(precision,4),'\\nRecall = ', round(recall,4), '\\nF-Score = ',round(fscore,4))"
   ]
  },
  {
   "cell_type": "code",
   "execution_count": null,
   "id": "f5ac4df9-bfd6-41f3-89ed-d0d45428afb2",
   "metadata": {},
   "outputs": [],
   "source": [
    "cm = confusion_matrix(y_test,y_pred_)\n",
    "accuracy = float(cm.diagonal().sum())/len(y_test)\n",
    "print(\"\\nSVM Accuracy: \", accuracy)"
   ]
  },
  {
   "cell_type": "code",
   "execution_count": null,
   "id": "e26fb0ce-fcfd-490d-af05-ce02db148033",
   "metadata": {},
   "outputs": [],
   "source": [
    "accuracy = accuracy_score(y_test,y_pred_)\n",
    "conf_mat = confusion_matrix(y_test,y_pred_)\n",
    "print(\"The accuracy of the model is :\", round(accuracy,2)*100,\"%\")\n",
    "print(\"Confusion Matrix:\\n\", conf_mat)"
   ]
  },
  {
   "cell_type": "code",
   "execution_count": null,
   "id": "8ee21b93-820d-4468-803f-cb4e1b0299ab",
   "metadata": {},
   "outputs": [],
   "source": [
    "model.score(X_test,y_test)"
   ]
  },
  {
   "cell_type": "markdown",
   "id": "0aa53b4e-e70c-4575-a01e-e6a8e9267608",
   "metadata": {
    "jp-MarkdownHeadingCollapsed": true,
    "tags": []
   },
   "source": [
    "### Random Forest model"
   ]
  },
  {
   "cell_type": "code",
   "execution_count": null,
   "id": "75ce39eb-1732-4ffb-b4ae-c2b5b4b199cf",
   "metadata": {},
   "outputs": [],
   "source": [
    "# work on Balanced DATA (Random sampling)\n",
    "model = RandomForestClassifier(max_depth=3,random_state=2)"
   ]
  },
  {
   "cell_type": "code",
   "execution_count": null,
   "id": "20d98a30-d206-4449-8f97-e797444c88c3",
   "metadata": {},
   "outputs": [],
   "source": [
    "model = model.fit(X_train,y_kktrain)"
   ]
  },
  {
   "cell_type": "code",
   "execution_count": null,
   "id": "70140f41-350c-442b-8816-b62a18403d9b",
   "metadata": {},
   "outputs": [],
   "source": [
    "model.score(X_test,y_test)"
   ]
  },
  {
   "cell_type": "code",
   "execution_count": null,
   "id": "73135c2d-8baf-4d61-8d61-91059ee3cbf0",
   "metadata": {},
   "outputs": [],
   "source": [
    "Y_pred = model.predict(X_test)"
   ]
  },
  {
   "cell_type": "code",
   "execution_count": null,
   "id": "c3cd4175-a446-4b81-b748-7748c0b0e629",
   "metadata": {},
   "outputs": [],
   "source": [
    "precision, recall, fscore, support = precision_recall_fscore_support(y_test, Y_pred, average='binary')\n",
    "print('Precision = ',round(precision,4),'\\nRecall = ', round(recall,4), '\\nF-Score = ',round(fscore,4))"
   ]
  },
  {
   "cell_type": "markdown",
   "id": "534f8261-819a-4be4-befc-19073f4a1772",
   "metadata": {},
   "source": [
    "### Try the model with transformed data "
   ]
  },
  {
   "cell_type": "code",
   "execution_count": 133,
   "id": "730c56fc-724a-45b8-89a8-e1d47fefeb7e",
   "metadata": {},
   "outputs": [],
   "source": [
    "X_train, X_test, y_train, y_test = train_test_split(df_transformed.drop(columns=['length', 'weight', 'count', 'looped',\n",
    "       'neighbors', 'income','label']), df_transformed['label'], \n",
    "                                                    test_size = 0.25, random_state=42)"
   ]
  },
  {
   "cell_type": "code",
   "execution_count": 135,
   "id": "6d06ad6f-5333-4cf8-b965-e7843fac1b57",
   "metadata": {},
   "outputs": [
    {
     "name": "stdout",
     "output_type": "stream",
     "text": [
      "0.7815231564205342\n",
      "Precision =  0.7202 \n",
      "Recall =  0.9219 \n",
      "F-Score =  0.8086\n"
     ]
    }
   ],
   "source": [
    "model = RandomForestClassifier(max_depth=5,random_state=42)\n",
    "model = model.fit(X_train,y_train)\n",
    "print(model.score(X_test,y_test))\n",
    "Y_pred = model.predict(X_test)\n",
    "precision, recall, fscore, support = precision_recall_fscore_support(y_test, Y_pred, average='binary')\n",
    "print('Precision = ',round(precision,4),'\\nRecall = ', round(recall,4), '\\nF-Score = ',round(fscore,4))"
   ]
  },
  {
   "cell_type": "code",
   "execution_count": null,
   "id": "cef37544-fa03-4659-ab1e-f00758a13436",
   "metadata": {},
   "outputs": [],
   "source": []
  },
  {
   "cell_type": "markdown",
   "id": "383e9ba4-7e63-4370-af49-98fd98013f33",
   "metadata": {},
   "source": [
    "# All Models"
   ]
  },
  {
   "cell_type": "code",
   "execution_count": null,
   "id": "33bc5bfc-f09d-46b9-bfaa-969082a7c3b9",
   "metadata": {},
   "outputs": [],
   "source": [
    "# Create Function to fit on All models and Calculat it's score, F1, Prec, Recall ... etc. "
   ]
  }
 ],
 "metadata": {
  "kernelspec": {
   "display_name": "Python 3 (ipykernel)",
   "language": "python",
   "name": "python3"
  },
  "language_info": {
   "codemirror_mode": {
    "name": "ipython",
    "version": 3
   },
   "file_extension": ".py",
   "mimetype": "text/x-python",
   "name": "python",
   "nbconvert_exporter": "python",
   "pygments_lexer": "ipython3",
   "version": "3.8.11"
  }
 },
 "nbformat": 4,
 "nbformat_minor": 5
}
